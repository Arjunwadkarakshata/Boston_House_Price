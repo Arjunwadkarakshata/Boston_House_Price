{
 "cells": [
  {
   "cell_type": "code",
   "execution_count": 170,
   "id": "b775822c",
   "metadata": {},
   "outputs": [],
   "source": [
    "# Import Essential Libraries\n",
    "\n",
    "import numpy as np\n",
    "import pandas as pd\n",
    "\n",
    "# Visualization Libraries\n",
    "import seaborn as sns\n",
    "import matplotlib.pyplot as plt\n",
    "\n",
    "#model building\n",
    "from sklearn.model_selection import train_test_split,GridSearchCV,RandomizedSearchCV\n",
    "from sklearn.linear_model import LinearRegression\n",
    "from sklearn.tree import DecisionTreeRegressor\n",
    "from sklearn.ensemble import RandomForestRegressor\n",
    "from sklearn.neighbors import KNeighborsRegressor\n",
    "\n",
    "#performance matrics\n",
    "from sklearn.metrics import mean_squared_error, r2_score\n",
    "\n",
    "#pickle file\n",
    "import pickle"
   ]
  },
  {
   "cell_type": "code",
   "execution_count": 95,
   "id": "bf041331",
   "metadata": {},
   "outputs": [
    {
     "data": {
      "text/html": [
       "<div>\n",
       "<style scoped>\n",
       "    .dataframe tbody tr th:only-of-type {\n",
       "        vertical-align: middle;\n",
       "    }\n",
       "\n",
       "    .dataframe tbody tr th {\n",
       "        vertical-align: top;\n",
       "    }\n",
       "\n",
       "    .dataframe thead th {\n",
       "        text-align: right;\n",
       "    }\n",
       "</style>\n",
       "<table border=\"1\" class=\"dataframe\">\n",
       "  <thead>\n",
       "    <tr style=\"text-align: right;\">\n",
       "      <th></th>\n",
       "      <th>CRIM</th>\n",
       "      <th>ZN</th>\n",
       "      <th>INDUS</th>\n",
       "      <th>CHAS</th>\n",
       "      <th>NOX</th>\n",
       "      <th>RM</th>\n",
       "      <th>AGE</th>\n",
       "      <th>DIS</th>\n",
       "      <th>RAD</th>\n",
       "      <th>TAX</th>\n",
       "      <th>PTRATIO</th>\n",
       "      <th>B</th>\n",
       "      <th>LSTAT</th>\n",
       "      <th>MEDV</th>\n",
       "    </tr>\n",
       "  </thead>\n",
       "  <tbody>\n",
       "    <tr>\n",
       "      <th>0</th>\n",
       "      <td>0.00632</td>\n",
       "      <td>18.0</td>\n",
       "      <td>2.31</td>\n",
       "      <td>0</td>\n",
       "      <td>0.538</td>\n",
       "      <td>6.575</td>\n",
       "      <td>65.2</td>\n",
       "      <td>4.0900</td>\n",
       "      <td>1</td>\n",
       "      <td>296.0</td>\n",
       "      <td>15.3</td>\n",
       "      <td>396.90</td>\n",
       "      <td>4.98</td>\n",
       "      <td>24.0</td>\n",
       "    </tr>\n",
       "    <tr>\n",
       "      <th>1</th>\n",
       "      <td>0.02731</td>\n",
       "      <td>0.0</td>\n",
       "      <td>7.07</td>\n",
       "      <td>0</td>\n",
       "      <td>0.469</td>\n",
       "      <td>6.421</td>\n",
       "      <td>78.9</td>\n",
       "      <td>4.9671</td>\n",
       "      <td>2</td>\n",
       "      <td>242.0</td>\n",
       "      <td>17.8</td>\n",
       "      <td>396.90</td>\n",
       "      <td>9.14</td>\n",
       "      <td>21.6</td>\n",
       "    </tr>\n",
       "    <tr>\n",
       "      <th>2</th>\n",
       "      <td>0.02729</td>\n",
       "      <td>0.0</td>\n",
       "      <td>7.07</td>\n",
       "      <td>0</td>\n",
       "      <td>0.469</td>\n",
       "      <td>7.185</td>\n",
       "      <td>61.1</td>\n",
       "      <td>4.9671</td>\n",
       "      <td>2</td>\n",
       "      <td>242.0</td>\n",
       "      <td>17.8</td>\n",
       "      <td>392.83</td>\n",
       "      <td>4.03</td>\n",
       "      <td>34.7</td>\n",
       "    </tr>\n",
       "    <tr>\n",
       "      <th>3</th>\n",
       "      <td>0.03237</td>\n",
       "      <td>0.0</td>\n",
       "      <td>2.18</td>\n",
       "      <td>0</td>\n",
       "      <td>0.458</td>\n",
       "      <td>6.998</td>\n",
       "      <td>45.8</td>\n",
       "      <td>6.0622</td>\n",
       "      <td>3</td>\n",
       "      <td>222.0</td>\n",
       "      <td>18.7</td>\n",
       "      <td>394.63</td>\n",
       "      <td>2.94</td>\n",
       "      <td>33.4</td>\n",
       "    </tr>\n",
       "    <tr>\n",
       "      <th>4</th>\n",
       "      <td>0.06905</td>\n",
       "      <td>0.0</td>\n",
       "      <td>2.18</td>\n",
       "      <td>0</td>\n",
       "      <td>0.458</td>\n",
       "      <td>7.147</td>\n",
       "      <td>54.2</td>\n",
       "      <td>6.0622</td>\n",
       "      <td>3</td>\n",
       "      <td>222.0</td>\n",
       "      <td>18.7</td>\n",
       "      <td>396.90</td>\n",
       "      <td>5.33</td>\n",
       "      <td>36.2</td>\n",
       "    </tr>\n",
       "  </tbody>\n",
       "</table>\n",
       "</div>"
      ],
      "text/plain": [
       "      CRIM    ZN  INDUS  CHAS    NOX     RM   AGE     DIS  RAD    TAX  \\\n",
       "0  0.00632  18.0   2.31     0  0.538  6.575  65.2  4.0900    1  296.0   \n",
       "1  0.02731   0.0   7.07     0  0.469  6.421  78.9  4.9671    2  242.0   \n",
       "2  0.02729   0.0   7.07     0  0.469  7.185  61.1  4.9671    2  242.0   \n",
       "3  0.03237   0.0   2.18     0  0.458  6.998  45.8  6.0622    3  222.0   \n",
       "4  0.06905   0.0   2.18     0  0.458  7.147  54.2  6.0622    3  222.0   \n",
       "\n",
       "   PTRATIO       B  LSTAT  MEDV  \n",
       "0     15.3  396.90   4.98  24.0  \n",
       "1     17.8  396.90   9.14  21.6  \n",
       "2     17.8  392.83   4.03  34.7  \n",
       "3     18.7  394.63   2.94  33.4  \n",
       "4     18.7  396.90   5.33  36.2  "
      ]
     },
     "execution_count": 95,
     "metadata": {},
     "output_type": "execute_result"
    }
   ],
   "source": [
    "# Loading Boston Housing Dataset\n",
    "\n",
    "boston_df=pd.read_csv(\"housing.csv\",delimiter=r\"\\s+\",names=['CRIM', 'ZN', 'INDUS', 'CHAS', 'NOX', 'RM', 'AGE', 'DIS', 'RAD', 'TAX', 'PTRATIO', 'B', 'LSTAT', 'MEDV'])\n",
    "\n",
    "#top 5 rows of the boston dataset\n",
    "boston_df.head()"
   ]
  },
  {
   "cell_type": "code",
   "execution_count": null,
   "id": "f5573721",
   "metadata": {},
   "outputs": [],
   "source": [
    "# 14 features are there :\n",
    "\n",
    "1. CRIM             - per capita crime rate by town\n",
    "2. ZN               - proportion of residential land zoned for lots over 25,000 sq.ft.\n",
    "3. INDUS            - proportion of non-retail business acres per town.\n",
    "4. CHAS             - Charles River dummy variable (1 if tract bounds river; 0 otherwise)\n",
    "5. NOX              - nitric oxides concentration (parts per 10 million)\n",
    "6. RM               - average number of rooms per dwelling\n",
    "7. AGE              - proportion of owner-occupied units built prior to 1940\n",
    "8. DIS              - weighted distances to five Boston employment centres\n",
    "9. RAD              - index of accessibility to radial highways\n",
    "10. TAX             - full-value property-tax rate per 10,000 dollars.\n",
    "11. PTRATIO         - pupil-teacher ratio by town\n",
    "12. B               - 1000(Bk - 0.63)^2 where Bk is the proportion of blacks by town\n",
    "13. LSTAT           - % lower status of the population\n",
    "14. MEDV            - Median value of owner-occupied homes in 1000's dollars"
   ]
  },
  {
   "cell_type": "markdown",
   "id": "2bf81473",
   "metadata": {},
   "source": [
    "# Basic analysis of boston dataset"
   ]
  },
  {
   "cell_type": "code",
   "execution_count": 10,
   "id": "e867c86b",
   "metadata": {},
   "outputs": [
    {
     "data": {
      "text/plain": [
       "(506, 14)"
      ]
     },
     "execution_count": 10,
     "metadata": {},
     "output_type": "execute_result"
    }
   ],
   "source": [
    "# shape of the dataset\n",
    "\n",
    "shape=boston_df.shape\n",
    "shape"
   ]
  },
  {
   "cell_type": "code",
   "execution_count": 17,
   "id": "6a800ddc",
   "metadata": {},
   "outputs": [
    {
     "name": "stdout",
     "output_type": "stream",
     "text": [
      "Number of records : \t 506\n"
     ]
    }
   ],
   "source": [
    "# no. of rows of the dataset\n",
    "\n",
    "print(\"Number of records : \\t\", shape[0])"
   ]
  },
  {
   "cell_type": "code",
   "execution_count": 18,
   "id": "b601967a",
   "metadata": {},
   "outputs": [
    {
     "name": "stdout",
     "output_type": "stream",
     "text": [
      "Number of Factors : \t 14\n"
     ]
    }
   ],
   "source": [
    "# no. of columns of the dataset\n",
    "\n",
    "print(\"Number of Factors : \\t\", shape[1])"
   ]
  },
  {
   "cell_type": "code",
   "execution_count": 13,
   "id": "2cca32c2",
   "metadata": {},
   "outputs": [
    {
     "data": {
      "text/plain": [
       "Index(['CRIM', 'ZN', 'INDUS', 'CHAS', 'NOX', 'RM', 'AGE', 'DIS', 'RAD', 'TAX',\n",
       "       'PTRATIO', 'B', 'LSTAT', 'MEDV'],\n",
       "      dtype='object')"
      ]
     },
     "execution_count": 13,
     "metadata": {},
     "output_type": "execute_result"
    }
   ],
   "source": [
    "#features of the boston datasets\n",
    "\n",
    "boston_df.columns"
   ]
  },
  {
   "cell_type": "code",
   "execution_count": 14,
   "id": "72c680e8",
   "metadata": {},
   "outputs": [
    {
     "data": {
      "text/plain": [
       "RangeIndex(start=0, stop=506, step=1)"
      ]
     },
     "execution_count": 14,
     "metadata": {},
     "output_type": "execute_result"
    }
   ],
   "source": [
    "# no. of records of the boston datasets\n",
    "\n",
    "boston_df.index"
   ]
  },
  {
   "cell_type": "code",
   "execution_count": 7,
   "id": "a82ca711",
   "metadata": {},
   "outputs": [
    {
     "data": {
      "text/html": [
       "<div>\n",
       "<style scoped>\n",
       "    .dataframe tbody tr th:only-of-type {\n",
       "        vertical-align: middle;\n",
       "    }\n",
       "\n",
       "    .dataframe tbody tr th {\n",
       "        vertical-align: top;\n",
       "    }\n",
       "\n",
       "    .dataframe thead th {\n",
       "        text-align: right;\n",
       "    }\n",
       "</style>\n",
       "<table border=\"1\" class=\"dataframe\">\n",
       "  <thead>\n",
       "    <tr style=\"text-align: right;\">\n",
       "      <th></th>\n",
       "      <th>CRIM</th>\n",
       "      <th>ZN</th>\n",
       "      <th>INDUS</th>\n",
       "      <th>CHAS</th>\n",
       "      <th>NOX</th>\n",
       "      <th>RM</th>\n",
       "      <th>AGE</th>\n",
       "      <th>DIS</th>\n",
       "      <th>RAD</th>\n",
       "      <th>TAX</th>\n",
       "      <th>PTRATIO</th>\n",
       "      <th>B</th>\n",
       "      <th>LSTAT</th>\n",
       "      <th>MEDV</th>\n",
       "    </tr>\n",
       "  </thead>\n",
       "  <tbody>\n",
       "    <tr>\n",
       "      <th>0</th>\n",
       "      <td>0.00632</td>\n",
       "      <td>18.0</td>\n",
       "      <td>2.31</td>\n",
       "      <td>0</td>\n",
       "      <td>0.538</td>\n",
       "      <td>6.575</td>\n",
       "      <td>65.2</td>\n",
       "      <td>4.0900</td>\n",
       "      <td>1</td>\n",
       "      <td>296.0</td>\n",
       "      <td>15.3</td>\n",
       "      <td>396.90</td>\n",
       "      <td>4.98</td>\n",
       "      <td>24.0</td>\n",
       "    </tr>\n",
       "    <tr>\n",
       "      <th>1</th>\n",
       "      <td>0.02731</td>\n",
       "      <td>0.0</td>\n",
       "      <td>7.07</td>\n",
       "      <td>0</td>\n",
       "      <td>0.469</td>\n",
       "      <td>6.421</td>\n",
       "      <td>78.9</td>\n",
       "      <td>4.9671</td>\n",
       "      <td>2</td>\n",
       "      <td>242.0</td>\n",
       "      <td>17.8</td>\n",
       "      <td>396.90</td>\n",
       "      <td>9.14</td>\n",
       "      <td>21.6</td>\n",
       "    </tr>\n",
       "    <tr>\n",
       "      <th>2</th>\n",
       "      <td>0.02729</td>\n",
       "      <td>0.0</td>\n",
       "      <td>7.07</td>\n",
       "      <td>0</td>\n",
       "      <td>0.469</td>\n",
       "      <td>7.185</td>\n",
       "      <td>61.1</td>\n",
       "      <td>4.9671</td>\n",
       "      <td>2</td>\n",
       "      <td>242.0</td>\n",
       "      <td>17.8</td>\n",
       "      <td>392.83</td>\n",
       "      <td>4.03</td>\n",
       "      <td>34.7</td>\n",
       "    </tr>\n",
       "    <tr>\n",
       "      <th>3</th>\n",
       "      <td>0.03237</td>\n",
       "      <td>0.0</td>\n",
       "      <td>2.18</td>\n",
       "      <td>0</td>\n",
       "      <td>0.458</td>\n",
       "      <td>6.998</td>\n",
       "      <td>45.8</td>\n",
       "      <td>6.0622</td>\n",
       "      <td>3</td>\n",
       "      <td>222.0</td>\n",
       "      <td>18.7</td>\n",
       "      <td>394.63</td>\n",
       "      <td>2.94</td>\n",
       "      <td>33.4</td>\n",
       "    </tr>\n",
       "    <tr>\n",
       "      <th>4</th>\n",
       "      <td>0.06905</td>\n",
       "      <td>0.0</td>\n",
       "      <td>2.18</td>\n",
       "      <td>0</td>\n",
       "      <td>0.458</td>\n",
       "      <td>7.147</td>\n",
       "      <td>54.2</td>\n",
       "      <td>6.0622</td>\n",
       "      <td>3</td>\n",
       "      <td>222.0</td>\n",
       "      <td>18.7</td>\n",
       "      <td>396.90</td>\n",
       "      <td>5.33</td>\n",
       "      <td>36.2</td>\n",
       "    </tr>\n",
       "    <tr>\n",
       "      <th>5</th>\n",
       "      <td>0.02985</td>\n",
       "      <td>0.0</td>\n",
       "      <td>2.18</td>\n",
       "      <td>0</td>\n",
       "      <td>0.458</td>\n",
       "      <td>6.430</td>\n",
       "      <td>58.7</td>\n",
       "      <td>6.0622</td>\n",
       "      <td>3</td>\n",
       "      <td>222.0</td>\n",
       "      <td>18.7</td>\n",
       "      <td>394.12</td>\n",
       "      <td>5.21</td>\n",
       "      <td>28.7</td>\n",
       "    </tr>\n",
       "    <tr>\n",
       "      <th>6</th>\n",
       "      <td>0.08829</td>\n",
       "      <td>12.5</td>\n",
       "      <td>7.87</td>\n",
       "      <td>0</td>\n",
       "      <td>0.524</td>\n",
       "      <td>6.012</td>\n",
       "      <td>66.6</td>\n",
       "      <td>5.5605</td>\n",
       "      <td>5</td>\n",
       "      <td>311.0</td>\n",
       "      <td>15.2</td>\n",
       "      <td>395.60</td>\n",
       "      <td>12.43</td>\n",
       "      <td>22.9</td>\n",
       "    </tr>\n",
       "    <tr>\n",
       "      <th>7</th>\n",
       "      <td>0.14455</td>\n",
       "      <td>12.5</td>\n",
       "      <td>7.87</td>\n",
       "      <td>0</td>\n",
       "      <td>0.524</td>\n",
       "      <td>6.172</td>\n",
       "      <td>96.1</td>\n",
       "      <td>5.9505</td>\n",
       "      <td>5</td>\n",
       "      <td>311.0</td>\n",
       "      <td>15.2</td>\n",
       "      <td>396.90</td>\n",
       "      <td>19.15</td>\n",
       "      <td>27.1</td>\n",
       "    </tr>\n",
       "    <tr>\n",
       "      <th>8</th>\n",
       "      <td>0.21124</td>\n",
       "      <td>12.5</td>\n",
       "      <td>7.87</td>\n",
       "      <td>0</td>\n",
       "      <td>0.524</td>\n",
       "      <td>5.631</td>\n",
       "      <td>100.0</td>\n",
       "      <td>6.0821</td>\n",
       "      <td>5</td>\n",
       "      <td>311.0</td>\n",
       "      <td>15.2</td>\n",
       "      <td>386.63</td>\n",
       "      <td>29.93</td>\n",
       "      <td>16.5</td>\n",
       "    </tr>\n",
       "    <tr>\n",
       "      <th>9</th>\n",
       "      <td>0.17004</td>\n",
       "      <td>12.5</td>\n",
       "      <td>7.87</td>\n",
       "      <td>0</td>\n",
       "      <td>0.524</td>\n",
       "      <td>6.004</td>\n",
       "      <td>85.9</td>\n",
       "      <td>6.5921</td>\n",
       "      <td>5</td>\n",
       "      <td>311.0</td>\n",
       "      <td>15.2</td>\n",
       "      <td>386.71</td>\n",
       "      <td>17.10</td>\n",
       "      <td>18.9</td>\n",
       "    </tr>\n",
       "  </tbody>\n",
       "</table>\n",
       "</div>"
      ],
      "text/plain": [
       "      CRIM    ZN  INDUS  CHAS    NOX     RM    AGE     DIS  RAD    TAX  \\\n",
       "0  0.00632  18.0   2.31     0  0.538  6.575   65.2  4.0900    1  296.0   \n",
       "1  0.02731   0.0   7.07     0  0.469  6.421   78.9  4.9671    2  242.0   \n",
       "2  0.02729   0.0   7.07     0  0.469  7.185   61.1  4.9671    2  242.0   \n",
       "3  0.03237   0.0   2.18     0  0.458  6.998   45.8  6.0622    3  222.0   \n",
       "4  0.06905   0.0   2.18     0  0.458  7.147   54.2  6.0622    3  222.0   \n",
       "5  0.02985   0.0   2.18     0  0.458  6.430   58.7  6.0622    3  222.0   \n",
       "6  0.08829  12.5   7.87     0  0.524  6.012   66.6  5.5605    5  311.0   \n",
       "7  0.14455  12.5   7.87     0  0.524  6.172   96.1  5.9505    5  311.0   \n",
       "8  0.21124  12.5   7.87     0  0.524  5.631  100.0  6.0821    5  311.0   \n",
       "9  0.17004  12.5   7.87     0  0.524  6.004   85.9  6.5921    5  311.0   \n",
       "\n",
       "   PTRATIO       B  LSTAT  MEDV  \n",
       "0     15.3  396.90   4.98  24.0  \n",
       "1     17.8  396.90   9.14  21.6  \n",
       "2     17.8  392.83   4.03  34.7  \n",
       "3     18.7  394.63   2.94  33.4  \n",
       "4     18.7  396.90   5.33  36.2  \n",
       "5     18.7  394.12   5.21  28.7  \n",
       "6     15.2  395.60  12.43  22.9  \n",
       "7     15.2  396.90  19.15  27.1  \n",
       "8     15.2  386.63  29.93  16.5  \n",
       "9     15.2  386.71  17.10  18.9  "
      ]
     },
     "execution_count": 7,
     "metadata": {},
     "output_type": "execute_result"
    }
   ],
   "source": [
    "#top n rows of the boston dataset\n",
    "# n=10\n",
    "boston_df.head(10)"
   ]
  },
  {
   "cell_type": "code",
   "execution_count": 8,
   "id": "7782f84c",
   "metadata": {},
   "outputs": [
    {
     "data": {
      "text/html": [
       "<div>\n",
       "<style scoped>\n",
       "    .dataframe tbody tr th:only-of-type {\n",
       "        vertical-align: middle;\n",
       "    }\n",
       "\n",
       "    .dataframe tbody tr th {\n",
       "        vertical-align: top;\n",
       "    }\n",
       "\n",
       "    .dataframe thead th {\n",
       "        text-align: right;\n",
       "    }\n",
       "</style>\n",
       "<table border=\"1\" class=\"dataframe\">\n",
       "  <thead>\n",
       "    <tr style=\"text-align: right;\">\n",
       "      <th></th>\n",
       "      <th>CRIM</th>\n",
       "      <th>ZN</th>\n",
       "      <th>INDUS</th>\n",
       "      <th>CHAS</th>\n",
       "      <th>NOX</th>\n",
       "      <th>RM</th>\n",
       "      <th>AGE</th>\n",
       "      <th>DIS</th>\n",
       "      <th>RAD</th>\n",
       "      <th>TAX</th>\n",
       "      <th>PTRATIO</th>\n",
       "      <th>B</th>\n",
       "      <th>LSTAT</th>\n",
       "      <th>MEDV</th>\n",
       "    </tr>\n",
       "  </thead>\n",
       "  <tbody>\n",
       "    <tr>\n",
       "      <th>496</th>\n",
       "      <td>0.28960</td>\n",
       "      <td>0.0</td>\n",
       "      <td>9.69</td>\n",
       "      <td>0</td>\n",
       "      <td>0.585</td>\n",
       "      <td>5.390</td>\n",
       "      <td>72.9</td>\n",
       "      <td>2.7986</td>\n",
       "      <td>6</td>\n",
       "      <td>391.0</td>\n",
       "      <td>19.2</td>\n",
       "      <td>396.90</td>\n",
       "      <td>21.14</td>\n",
       "      <td>19.7</td>\n",
       "    </tr>\n",
       "    <tr>\n",
       "      <th>497</th>\n",
       "      <td>0.26838</td>\n",
       "      <td>0.0</td>\n",
       "      <td>9.69</td>\n",
       "      <td>0</td>\n",
       "      <td>0.585</td>\n",
       "      <td>5.794</td>\n",
       "      <td>70.6</td>\n",
       "      <td>2.8927</td>\n",
       "      <td>6</td>\n",
       "      <td>391.0</td>\n",
       "      <td>19.2</td>\n",
       "      <td>396.90</td>\n",
       "      <td>14.10</td>\n",
       "      <td>18.3</td>\n",
       "    </tr>\n",
       "    <tr>\n",
       "      <th>498</th>\n",
       "      <td>0.23912</td>\n",
       "      <td>0.0</td>\n",
       "      <td>9.69</td>\n",
       "      <td>0</td>\n",
       "      <td>0.585</td>\n",
       "      <td>6.019</td>\n",
       "      <td>65.3</td>\n",
       "      <td>2.4091</td>\n",
       "      <td>6</td>\n",
       "      <td>391.0</td>\n",
       "      <td>19.2</td>\n",
       "      <td>396.90</td>\n",
       "      <td>12.92</td>\n",
       "      <td>21.2</td>\n",
       "    </tr>\n",
       "    <tr>\n",
       "      <th>499</th>\n",
       "      <td>0.17783</td>\n",
       "      <td>0.0</td>\n",
       "      <td>9.69</td>\n",
       "      <td>0</td>\n",
       "      <td>0.585</td>\n",
       "      <td>5.569</td>\n",
       "      <td>73.5</td>\n",
       "      <td>2.3999</td>\n",
       "      <td>6</td>\n",
       "      <td>391.0</td>\n",
       "      <td>19.2</td>\n",
       "      <td>395.77</td>\n",
       "      <td>15.10</td>\n",
       "      <td>17.5</td>\n",
       "    </tr>\n",
       "    <tr>\n",
       "      <th>500</th>\n",
       "      <td>0.22438</td>\n",
       "      <td>0.0</td>\n",
       "      <td>9.69</td>\n",
       "      <td>0</td>\n",
       "      <td>0.585</td>\n",
       "      <td>6.027</td>\n",
       "      <td>79.7</td>\n",
       "      <td>2.4982</td>\n",
       "      <td>6</td>\n",
       "      <td>391.0</td>\n",
       "      <td>19.2</td>\n",
       "      <td>396.90</td>\n",
       "      <td>14.33</td>\n",
       "      <td>16.8</td>\n",
       "    </tr>\n",
       "    <tr>\n",
       "      <th>501</th>\n",
       "      <td>0.06263</td>\n",
       "      <td>0.0</td>\n",
       "      <td>11.93</td>\n",
       "      <td>0</td>\n",
       "      <td>0.573</td>\n",
       "      <td>6.593</td>\n",
       "      <td>69.1</td>\n",
       "      <td>2.4786</td>\n",
       "      <td>1</td>\n",
       "      <td>273.0</td>\n",
       "      <td>21.0</td>\n",
       "      <td>391.99</td>\n",
       "      <td>9.67</td>\n",
       "      <td>22.4</td>\n",
       "    </tr>\n",
       "    <tr>\n",
       "      <th>502</th>\n",
       "      <td>0.04527</td>\n",
       "      <td>0.0</td>\n",
       "      <td>11.93</td>\n",
       "      <td>0</td>\n",
       "      <td>0.573</td>\n",
       "      <td>6.120</td>\n",
       "      <td>76.7</td>\n",
       "      <td>2.2875</td>\n",
       "      <td>1</td>\n",
       "      <td>273.0</td>\n",
       "      <td>21.0</td>\n",
       "      <td>396.90</td>\n",
       "      <td>9.08</td>\n",
       "      <td>20.6</td>\n",
       "    </tr>\n",
       "    <tr>\n",
       "      <th>503</th>\n",
       "      <td>0.06076</td>\n",
       "      <td>0.0</td>\n",
       "      <td>11.93</td>\n",
       "      <td>0</td>\n",
       "      <td>0.573</td>\n",
       "      <td>6.976</td>\n",
       "      <td>91.0</td>\n",
       "      <td>2.1675</td>\n",
       "      <td>1</td>\n",
       "      <td>273.0</td>\n",
       "      <td>21.0</td>\n",
       "      <td>396.90</td>\n",
       "      <td>5.64</td>\n",
       "      <td>23.9</td>\n",
       "    </tr>\n",
       "    <tr>\n",
       "      <th>504</th>\n",
       "      <td>0.10959</td>\n",
       "      <td>0.0</td>\n",
       "      <td>11.93</td>\n",
       "      <td>0</td>\n",
       "      <td>0.573</td>\n",
       "      <td>6.794</td>\n",
       "      <td>89.3</td>\n",
       "      <td>2.3889</td>\n",
       "      <td>1</td>\n",
       "      <td>273.0</td>\n",
       "      <td>21.0</td>\n",
       "      <td>393.45</td>\n",
       "      <td>6.48</td>\n",
       "      <td>22.0</td>\n",
       "    </tr>\n",
       "    <tr>\n",
       "      <th>505</th>\n",
       "      <td>0.04741</td>\n",
       "      <td>0.0</td>\n",
       "      <td>11.93</td>\n",
       "      <td>0</td>\n",
       "      <td>0.573</td>\n",
       "      <td>6.030</td>\n",
       "      <td>80.8</td>\n",
       "      <td>2.5050</td>\n",
       "      <td>1</td>\n",
       "      <td>273.0</td>\n",
       "      <td>21.0</td>\n",
       "      <td>396.90</td>\n",
       "      <td>7.88</td>\n",
       "      <td>11.9</td>\n",
       "    </tr>\n",
       "  </tbody>\n",
       "</table>\n",
       "</div>"
      ],
      "text/plain": [
       "        CRIM   ZN  INDUS  CHAS    NOX     RM   AGE     DIS  RAD    TAX  \\\n",
       "496  0.28960  0.0   9.69     0  0.585  5.390  72.9  2.7986    6  391.0   \n",
       "497  0.26838  0.0   9.69     0  0.585  5.794  70.6  2.8927    6  391.0   \n",
       "498  0.23912  0.0   9.69     0  0.585  6.019  65.3  2.4091    6  391.0   \n",
       "499  0.17783  0.0   9.69     0  0.585  5.569  73.5  2.3999    6  391.0   \n",
       "500  0.22438  0.0   9.69     0  0.585  6.027  79.7  2.4982    6  391.0   \n",
       "501  0.06263  0.0  11.93     0  0.573  6.593  69.1  2.4786    1  273.0   \n",
       "502  0.04527  0.0  11.93     0  0.573  6.120  76.7  2.2875    1  273.0   \n",
       "503  0.06076  0.0  11.93     0  0.573  6.976  91.0  2.1675    1  273.0   \n",
       "504  0.10959  0.0  11.93     0  0.573  6.794  89.3  2.3889    1  273.0   \n",
       "505  0.04741  0.0  11.93     0  0.573  6.030  80.8  2.5050    1  273.0   \n",
       "\n",
       "     PTRATIO       B  LSTAT  MEDV  \n",
       "496     19.2  396.90  21.14  19.7  \n",
       "497     19.2  396.90  14.10  18.3  \n",
       "498     19.2  396.90  12.92  21.2  \n",
       "499     19.2  395.77  15.10  17.5  \n",
       "500     19.2  396.90  14.33  16.8  \n",
       "501     21.0  391.99   9.67  22.4  \n",
       "502     21.0  396.90   9.08  20.6  \n",
       "503     21.0  396.90   5.64  23.9  \n",
       "504     21.0  393.45   6.48  22.0  \n",
       "505     21.0  396.90   7.88  11.9  "
      ]
     },
     "execution_count": 8,
     "metadata": {},
     "output_type": "execute_result"
    }
   ],
   "source": [
    "#last n rows of the boston dataset\n",
    "n=10\n",
    "boston_df.tail(10)"
   ]
  },
  {
   "cell_type": "markdown",
   "id": "63376199",
   "metadata": {},
   "source": [
    "# Exploratory Data Analysis"
   ]
  },
  {
   "cell_type": "code",
   "execution_count": null,
   "id": "41b8a258",
   "metadata": {},
   "outputs": [],
   "source": [
    "EDA stands for exploratory data analysis where we do analysis and summary of our data by applying some statistical techniques\n",
    "and graphical representation.\n",
    "\n",
    "1)missing value detection\n",
    "2)outlier detection\n",
    "3)check data balancing\n",
    "4)"
   ]
  },
  {
   "cell_type": "code",
   "execution_count": 19,
   "id": "2710e4e7",
   "metadata": {},
   "outputs": [
    {
     "name": "stdout",
     "output_type": "stream",
     "text": [
      "<class 'pandas.core.frame.DataFrame'>\n",
      "RangeIndex: 506 entries, 0 to 505\n",
      "Data columns (total 14 columns):\n",
      " #   Column   Non-Null Count  Dtype  \n",
      "---  ------   --------------  -----  \n",
      " 0   CRIM     506 non-null    float64\n",
      " 1   ZN       506 non-null    float64\n",
      " 2   INDUS    506 non-null    float64\n",
      " 3   CHAS     506 non-null    int64  \n",
      " 4   NOX      506 non-null    float64\n",
      " 5   RM       506 non-null    float64\n",
      " 6   AGE      506 non-null    float64\n",
      " 7   DIS      506 non-null    float64\n",
      " 8   RAD      506 non-null    int64  \n",
      " 9   TAX      506 non-null    float64\n",
      " 10  PTRATIO  506 non-null    float64\n",
      " 11  B        506 non-null    float64\n",
      " 12  LSTAT    506 non-null    float64\n",
      " 13  MEDV     506 non-null    float64\n",
      "dtypes: float64(12), int64(2)\n",
      "memory usage: 55.5 KB\n"
     ]
    }
   ],
   "source": [
    "#checking the features and data types of all features with non null count using info() function\n",
    "\n",
    "boston_df.info()"
   ]
  },
  {
   "cell_type": "code",
   "execution_count": 20,
   "id": "af85ae5f",
   "metadata": {},
   "outputs": [
    {
     "data": {
      "text/html": [
       "<div>\n",
       "<style scoped>\n",
       "    .dataframe tbody tr th:only-of-type {\n",
       "        vertical-align: middle;\n",
       "    }\n",
       "\n",
       "    .dataframe tbody tr th {\n",
       "        vertical-align: top;\n",
       "    }\n",
       "\n",
       "    .dataframe thead th {\n",
       "        text-align: right;\n",
       "    }\n",
       "</style>\n",
       "<table border=\"1\" class=\"dataframe\">\n",
       "  <thead>\n",
       "    <tr style=\"text-align: right;\">\n",
       "      <th></th>\n",
       "      <th>CRIM</th>\n",
       "      <th>ZN</th>\n",
       "      <th>INDUS</th>\n",
       "      <th>CHAS</th>\n",
       "      <th>NOX</th>\n",
       "      <th>RM</th>\n",
       "      <th>AGE</th>\n",
       "      <th>DIS</th>\n",
       "      <th>RAD</th>\n",
       "      <th>TAX</th>\n",
       "      <th>PTRATIO</th>\n",
       "      <th>B</th>\n",
       "      <th>LSTAT</th>\n",
       "      <th>MEDV</th>\n",
       "    </tr>\n",
       "  </thead>\n",
       "  <tbody>\n",
       "    <tr>\n",
       "      <th>count</th>\n",
       "      <td>506.000000</td>\n",
       "      <td>506.000000</td>\n",
       "      <td>506.000000</td>\n",
       "      <td>506.000000</td>\n",
       "      <td>506.000000</td>\n",
       "      <td>506.000000</td>\n",
       "      <td>506.000000</td>\n",
       "      <td>506.000000</td>\n",
       "      <td>506.000000</td>\n",
       "      <td>506.000000</td>\n",
       "      <td>506.000000</td>\n",
       "      <td>506.000000</td>\n",
       "      <td>506.000000</td>\n",
       "      <td>506.000000</td>\n",
       "    </tr>\n",
       "    <tr>\n",
       "      <th>mean</th>\n",
       "      <td>3.613524</td>\n",
       "      <td>11.363636</td>\n",
       "      <td>11.136779</td>\n",
       "      <td>0.069170</td>\n",
       "      <td>0.554695</td>\n",
       "      <td>6.284634</td>\n",
       "      <td>68.574901</td>\n",
       "      <td>3.795043</td>\n",
       "      <td>9.549407</td>\n",
       "      <td>408.237154</td>\n",
       "      <td>18.455534</td>\n",
       "      <td>356.674032</td>\n",
       "      <td>12.653063</td>\n",
       "      <td>22.532806</td>\n",
       "    </tr>\n",
       "    <tr>\n",
       "      <th>std</th>\n",
       "      <td>8.601545</td>\n",
       "      <td>23.322453</td>\n",
       "      <td>6.860353</td>\n",
       "      <td>0.253994</td>\n",
       "      <td>0.115878</td>\n",
       "      <td>0.702617</td>\n",
       "      <td>28.148861</td>\n",
       "      <td>2.105710</td>\n",
       "      <td>8.707259</td>\n",
       "      <td>168.537116</td>\n",
       "      <td>2.164946</td>\n",
       "      <td>91.294864</td>\n",
       "      <td>7.141062</td>\n",
       "      <td>9.197104</td>\n",
       "    </tr>\n",
       "    <tr>\n",
       "      <th>min</th>\n",
       "      <td>0.006320</td>\n",
       "      <td>0.000000</td>\n",
       "      <td>0.460000</td>\n",
       "      <td>0.000000</td>\n",
       "      <td>0.385000</td>\n",
       "      <td>3.561000</td>\n",
       "      <td>2.900000</td>\n",
       "      <td>1.129600</td>\n",
       "      <td>1.000000</td>\n",
       "      <td>187.000000</td>\n",
       "      <td>12.600000</td>\n",
       "      <td>0.320000</td>\n",
       "      <td>1.730000</td>\n",
       "      <td>5.000000</td>\n",
       "    </tr>\n",
       "    <tr>\n",
       "      <th>25%</th>\n",
       "      <td>0.082045</td>\n",
       "      <td>0.000000</td>\n",
       "      <td>5.190000</td>\n",
       "      <td>0.000000</td>\n",
       "      <td>0.449000</td>\n",
       "      <td>5.885500</td>\n",
       "      <td>45.025000</td>\n",
       "      <td>2.100175</td>\n",
       "      <td>4.000000</td>\n",
       "      <td>279.000000</td>\n",
       "      <td>17.400000</td>\n",
       "      <td>375.377500</td>\n",
       "      <td>6.950000</td>\n",
       "      <td>17.025000</td>\n",
       "    </tr>\n",
       "    <tr>\n",
       "      <th>50%</th>\n",
       "      <td>0.256510</td>\n",
       "      <td>0.000000</td>\n",
       "      <td>9.690000</td>\n",
       "      <td>0.000000</td>\n",
       "      <td>0.538000</td>\n",
       "      <td>6.208500</td>\n",
       "      <td>77.500000</td>\n",
       "      <td>3.207450</td>\n",
       "      <td>5.000000</td>\n",
       "      <td>330.000000</td>\n",
       "      <td>19.050000</td>\n",
       "      <td>391.440000</td>\n",
       "      <td>11.360000</td>\n",
       "      <td>21.200000</td>\n",
       "    </tr>\n",
       "    <tr>\n",
       "      <th>75%</th>\n",
       "      <td>3.677083</td>\n",
       "      <td>12.500000</td>\n",
       "      <td>18.100000</td>\n",
       "      <td>0.000000</td>\n",
       "      <td>0.624000</td>\n",
       "      <td>6.623500</td>\n",
       "      <td>94.075000</td>\n",
       "      <td>5.188425</td>\n",
       "      <td>24.000000</td>\n",
       "      <td>666.000000</td>\n",
       "      <td>20.200000</td>\n",
       "      <td>396.225000</td>\n",
       "      <td>16.955000</td>\n",
       "      <td>25.000000</td>\n",
       "    </tr>\n",
       "    <tr>\n",
       "      <th>max</th>\n",
       "      <td>88.976200</td>\n",
       "      <td>100.000000</td>\n",
       "      <td>27.740000</td>\n",
       "      <td>1.000000</td>\n",
       "      <td>0.871000</td>\n",
       "      <td>8.780000</td>\n",
       "      <td>100.000000</td>\n",
       "      <td>12.126500</td>\n",
       "      <td>24.000000</td>\n",
       "      <td>711.000000</td>\n",
       "      <td>22.000000</td>\n",
       "      <td>396.900000</td>\n",
       "      <td>37.970000</td>\n",
       "      <td>50.000000</td>\n",
       "    </tr>\n",
       "  </tbody>\n",
       "</table>\n",
       "</div>"
      ],
      "text/plain": [
       "             CRIM          ZN       INDUS        CHAS         NOX          RM  \\\n",
       "count  506.000000  506.000000  506.000000  506.000000  506.000000  506.000000   \n",
       "mean     3.613524   11.363636   11.136779    0.069170    0.554695    6.284634   \n",
       "std      8.601545   23.322453    6.860353    0.253994    0.115878    0.702617   \n",
       "min      0.006320    0.000000    0.460000    0.000000    0.385000    3.561000   \n",
       "25%      0.082045    0.000000    5.190000    0.000000    0.449000    5.885500   \n",
       "50%      0.256510    0.000000    9.690000    0.000000    0.538000    6.208500   \n",
       "75%      3.677083   12.500000   18.100000    0.000000    0.624000    6.623500   \n",
       "max     88.976200  100.000000   27.740000    1.000000    0.871000    8.780000   \n",
       "\n",
       "              AGE         DIS         RAD         TAX     PTRATIO           B  \\\n",
       "count  506.000000  506.000000  506.000000  506.000000  506.000000  506.000000   \n",
       "mean    68.574901    3.795043    9.549407  408.237154   18.455534  356.674032   \n",
       "std     28.148861    2.105710    8.707259  168.537116    2.164946   91.294864   \n",
       "min      2.900000    1.129600    1.000000  187.000000   12.600000    0.320000   \n",
       "25%     45.025000    2.100175    4.000000  279.000000   17.400000  375.377500   \n",
       "50%     77.500000    3.207450    5.000000  330.000000   19.050000  391.440000   \n",
       "75%     94.075000    5.188425   24.000000  666.000000   20.200000  396.225000   \n",
       "max    100.000000   12.126500   24.000000  711.000000   22.000000  396.900000   \n",
       "\n",
       "            LSTAT        MEDV  \n",
       "count  506.000000  506.000000  \n",
       "mean    12.653063   22.532806  \n",
       "std      7.141062    9.197104  \n",
       "min      1.730000    5.000000  \n",
       "25%      6.950000   17.025000  \n",
       "50%     11.360000   21.200000  \n",
       "75%     16.955000   25.000000  \n",
       "max     37.970000   50.000000  "
      ]
     },
     "execution_count": 20,
     "metadata": {},
     "output_type": "execute_result"
    }
   ],
   "source": [
    "#desribe will give quick statistical summary of a dataset\n",
    "\n",
    "boston_df.describe()"
   ]
  },
  {
   "cell_type": "code",
   "execution_count": 21,
   "id": "1ae2bf09",
   "metadata": {},
   "outputs": [
    {
     "data": {
      "text/plain": [
       "CRIM       float64\n",
       "ZN         float64\n",
       "INDUS      float64\n",
       "CHAS         int64\n",
       "NOX        float64\n",
       "RM         float64\n",
       "AGE        float64\n",
       "DIS        float64\n",
       "RAD          int64\n",
       "TAX        float64\n",
       "PTRATIO    float64\n",
       "B          float64\n",
       "LSTAT      float64\n",
       "MEDV       float64\n",
       "dtype: object"
      ]
     },
     "execution_count": 21,
     "metadata": {},
     "output_type": "execute_result"
    }
   ],
   "source": [
    "# all data types are in numerical value, so there will be no need of Encoding.\n",
    "\n",
    "boston_df.dtypes"
   ]
  },
  {
   "cell_type": "code",
   "execution_count": 22,
   "id": "7dc2a809",
   "metadata": {},
   "outputs": [
    {
     "data": {
      "text/plain": [
       "CRIM       0.0\n",
       "ZN         0.0\n",
       "INDUS      0.0\n",
       "CHAS       0.0\n",
       "NOX        0.0\n",
       "RM         0.0\n",
       "AGE        0.0\n",
       "DIS        0.0\n",
       "RAD        0.0\n",
       "TAX        0.0\n",
       "PTRATIO    0.0\n",
       "B          0.0\n",
       "LSTAT      0.0\n",
       "MEDV       0.0\n",
       "dtype: float64"
      ]
     },
     "execution_count": 22,
     "metadata": {},
     "output_type": "execute_result"
    }
   ],
   "source": [
    "# no null values are present in dataset\n",
    "\n",
    "boston_df.isnull().mean()"
   ]
  },
  {
   "cell_type": "code",
   "execution_count": null,
   "id": "3a363641",
   "metadata": {},
   "outputs": [],
   "source": [
    "#Outliers detection:\n",
    "\n",
    "1)Boxplot visualization method\n",
    "2)Z-score\n",
    "3)IQR technique"
   ]
  },
  {
   "cell_type": "code",
   "execution_count": 23,
   "id": "10a49e83",
   "metadata": {},
   "outputs": [
    {
     "data": {
      "text/plain": [
       "<AxesSubplot:>"
      ]
     },
     "execution_count": 23,
     "metadata": {},
     "output_type": "execute_result"
    },
    {
     "data": {
      "image/png": "[encoded data removed]",
      "text/plain": [
       "<Figure size 432x288 with 1 Axes>"
      ]
     },
     "metadata": {
      "needs_background": "light"
     },
     "output_type": "display_data"
    }
   ],
   "source": [
    "# Boxplot method\n",
    "boston_df.boxplot()"
   ]
  },
  {
   "cell_type": "code",
   "execution_count": 27,
   "id": "d5c87bdb",
   "metadata": {},
   "outputs": [
    {
     "data": {
      "text/plain": [
       "<AxesSubplot:>"
      ]
     },
     "execution_count": 27,
     "metadata": {},
     "output_type": "execute_result"
    },
    {
     "data": {
      "image/png": "[encoded data removed]",
      "text/plain": [
       "<Figure size 432x288 with 1 Axes>"
      ]
     },
     "metadata": {
      "needs_background": "light"
     },
     "output_type": "display_data"
    }
   ],
   "source": [
    "boston_df[[\"CRIM\",\"ZN\",\"B\"]].boxplot()"
   ]
  },
  {
   "cell_type": "code",
   "execution_count": null,
   "id": "b65a6921",
   "metadata": {},
   "outputs": [],
   "source": [
    "# Z-score method"
   ]
  },
  {
   "cell_type": "code",
   "execution_count": 28,
   "id": "620fe525",
   "metadata": {},
   "outputs": [],
   "source": [
    "from scipy.stats import zscore"
   ]
  },
  {
   "cell_type": "code",
   "execution_count": 31,
   "id": "7331395b",
   "metadata": {},
   "outputs": [
    {
     "name": "stdout",
     "output_type": "stream",
     "text": [
      "feature: CRIM\n",
      "380    88.9762\n",
      "398    38.3518\n",
      "404    41.5292\n",
      "405    67.9208\n",
      "410    51.1358\n",
      "414    45.7461\n",
      "418    73.5341\n",
      "427    37.6619\n",
      "Name: CRIM, dtype: float64\n",
      "\n",
      "feature: ZN\n",
      "55      90.0\n",
      "56      85.0\n",
      "57     100.0\n",
      "199     95.0\n",
      "200     95.0\n",
      "201     82.5\n",
      "202     82.5\n",
      "203     95.0\n",
      "204     95.0\n",
      "256     90.0\n",
      "283     90.0\n",
      "284     90.0\n",
      "347     85.0\n",
      "353     90.0\n",
      "Name: ZN, dtype: float64\n",
      "\n",
      "feature: B\n",
      "102    70.80\n",
      "410     2.60\n",
      "411    35.05\n",
      "412    28.79\n",
      "415    27.25\n",
      "416    21.57\n",
      "418    16.45\n",
      "419    48.45\n",
      "423     2.52\n",
      "424     3.65\n",
      "425     7.68\n",
      "426    24.65\n",
      "427    18.82\n",
      "429    60.72\n",
      "431    81.33\n",
      "436    27.49\n",
      "437     9.32\n",
      "438    68.95\n",
      "445    43.06\n",
      "450     0.32\n",
      "454     6.68\n",
      "455    50.92\n",
      "456    10.48\n",
      "457     3.50\n",
      "466    22.01\n",
      "Name: B, dtype: float64\n",
      "\n"
     ]
    }
   ],
   "source": [
    "def outlier(df):\n",
    "    threshold=3\n",
    "    for feature in [\"CRIM\",\"ZN\",\"B\"]:\n",
    "        value=zscore(boston_df[feature])\n",
    "        index=np.where(np.abs(value)>threshold)\n",
    "        print(\"feature:\",feature)\n",
    "        print(boston_df[feature].iloc[index])\n",
    "        print()\n",
    "        \n",
    "outlier(boston_df)"
   ]
  },
  {
   "cell_type": "code",
   "execution_count": null,
   "id": "f47dc94a",
   "metadata": {},
   "outputs": [],
   "source": [
    "#IQR method"
   ]
  },
  {
   "cell_type": "code",
   "execution_count": 65,
   "id": "4c260c13",
   "metadata": {},
   "outputs": [
    {
     "name": "stdout",
     "output_type": "stream",
     "text": [
      "upper_tail_CRIM: 9.06963875\n",
      "lower_tail_CRIM: -5.31051125\n"
     ]
    }
   ],
   "source": [
    "# calculate 25% and 75% quantile for \"CRIM\" feature\n",
    "q1=boston_df[\"CRIM\"].quantile(0.25)\n",
    "q2=boston_df[\"CRIM\"].quantile(0.75)\n",
    "\n",
    "iqr=q2-q1\n",
    "\n",
    "upper_tail_CRIM=q2 + (1.5*iqr)\n",
    "lower_tail_CRIM=q1 - (1.5*iqr)\n",
    "\n",
    "print(\"upper_tail_CRIM:\",upper_tail_CRIM)\n",
    "print(\"lower_tail_CRIM:\",lower_tail_CRIM)"
   ]
  },
  {
   "cell_type": "code",
   "execution_count": 33,
   "id": "5f04851f",
   "metadata": {},
   "outputs": [
    {
     "data": {
      "text/plain": [
       "367    13.5222\n",
       "371     9.2323\n",
       "373    11.1081\n",
       "374    18.4982\n",
       "375    19.6091\n",
       "        ...   \n",
       "468    15.5757\n",
       "469    13.0751\n",
       "477    15.0234\n",
       "478    10.2330\n",
       "479    14.3337\n",
       "Name: CRIM, Length: 66, dtype: float64"
      ]
     },
     "execution_count": 33,
     "metadata": {},
     "output_type": "execute_result"
    }
   ],
   "source": [
    "boston_df[\"CRIM\"].loc[boston_df[\"CRIM\"]>upper_tail_CRIM]"
   ]
  },
  {
   "cell_type": "code",
   "execution_count": 34,
   "id": "13655a44",
   "metadata": {},
   "outputs": [
    {
     "data": {
      "text/plain": [
       "Series([], Name: CRIM, dtype: float64)"
      ]
     },
     "execution_count": 34,
     "metadata": {},
     "output_type": "execute_result"
    }
   ],
   "source": [
    "boston_df[\"CRIM\"].loc[boston_df[\"CRIM\"]<lower_tail_CRIM]"
   ]
  },
  {
   "cell_type": "code",
   "execution_count": 67,
   "id": "5468b9ae",
   "metadata": {},
   "outputs": [
    {
     "name": "stdout",
     "output_type": "stream",
     "text": [
      "upper_tail_ZN: 31.25\n",
      "lower_tail_ZN: -18.75\n"
     ]
    }
   ],
   "source": [
    "# calculate 25% and 75% quantile for \"ZN\" feature\n",
    "q1=boston_df[\"ZN\"].quantile(0.25)\n",
    "q2=boston_df[\"ZN\"].quantile(0.75)\n",
    "\n",
    "iqr=q2-q1\n",
    "\n",
    "upper_tail_ZN=q2 + (1.5*iqr)\n",
    "lower_tail_ZN=q1 - (1.5*iqr)\n",
    "\n",
    "print(\"upper_tail_ZN:\",upper_tail_ZN)\n",
    "print(\"lower_tail_ZN:\",lower_tail_ZN)"
   ]
  },
  {
   "cell_type": "code",
   "execution_count": 36,
   "id": "90e21de0",
   "metadata": {},
   "outputs": [
    {
     "data": {
      "text/plain": [
       "39     75.0\n",
       "40     75.0\n",
       "54     75.0\n",
       "55     90.0\n",
       "56     85.0\n",
       "       ... \n",
       "351    60.0\n",
       "352    60.0\n",
       "353    90.0\n",
       "354    80.0\n",
       "355    80.0\n",
       "Name: ZN, Length: 68, dtype: float64"
      ]
     },
     "execution_count": 36,
     "metadata": {},
     "output_type": "execute_result"
    }
   ],
   "source": [
    "boston_df[\"ZN\"].loc[boston_df[\"ZN\"]>upper_tail_ZN]"
   ]
  },
  {
   "cell_type": "code",
   "execution_count": 37,
   "id": "3bc5264f",
   "metadata": {},
   "outputs": [
    {
     "data": {
      "text/plain": [
       "Series([], Name: ZN, dtype: float64)"
      ]
     },
     "execution_count": 37,
     "metadata": {},
     "output_type": "execute_result"
    }
   ],
   "source": [
    "boston_df[\"ZN\"].loc[boston_df[\"ZN\"]<lower_tail_ZN]"
   ]
  },
  {
   "cell_type": "code",
   "execution_count": 68,
   "id": "5f479a1b",
   "metadata": {},
   "outputs": [
    {
     "name": "stdout",
     "output_type": "stream",
     "text": [
      "upper_tail_B: 427.49625000000003\n",
      "lower_tail_B: 344.10624999999993\n"
     ]
    }
   ],
   "source": [
    "# calculate 25% and 75% quantile for \"B\" feature\n",
    "q1=boston_df[\"B\"].quantile(0.25)\n",
    "q2=boston_df[\"B\"].quantile(0.75)\n",
    "\n",
    "iqr=q2-q1\n",
    "\n",
    "upper_tail_B=q2 + (1.5*iqr)\n",
    "lower_tail_B=q1 - (1.5*iqr)\n",
    "\n",
    "print(\"upper_tail_B:\",upper_tail_B)\n",
    "print(\"lower_tail_B:\",lower_tail_B)"
   ]
  },
  {
   "cell_type": "code",
   "execution_count": 39,
   "id": "035ece38",
   "metadata": {},
   "outputs": [
    {
     "data": {
      "text/plain": [
       "Series([], Name: B, dtype: float64)"
      ]
     },
     "execution_count": 39,
     "metadata": {},
     "output_type": "execute_result"
    }
   ],
   "source": [
    "boston_df[\"B\"].loc[boston_df[\"B\"]>upper_tail_B]"
   ]
  },
  {
   "cell_type": "code",
   "execution_count": 40,
   "id": "cb7d427b",
   "metadata": {},
   "outputs": [
    {
     "data": {
      "text/plain": [
       "18     288.99\n",
       "25     303.42\n",
       "27     306.38\n",
       "32     232.60\n",
       "34     248.31\n",
       "        ...  \n",
       "466     22.01\n",
       "467    331.29\n",
       "475    302.76\n",
       "489    344.05\n",
       "490    318.43\n",
       "Name: B, Length: 77, dtype: float64"
      ]
     },
     "execution_count": 40,
     "metadata": {},
     "output_type": "execute_result"
    }
   ],
   "source": [
    "boston_df[\"B\"].loc[boston_df[\"B\"]<lower_tail_B]"
   ]
  },
  {
   "cell_type": "markdown",
   "id": "5daa60ce",
   "metadata": {},
   "source": [
    "# Feature Engineering"
   ]
  },
  {
   "cell_type": "code",
   "execution_count": null,
   "id": "0267e506",
   "metadata": {},
   "outputs": [],
   "source": [
    "1)missing value handling\n",
    "2)outliers handling\n",
    "3)data balancing\n",
    "4)encoding\n",
    "5)feature scalling"
   ]
  },
  {
   "cell_type": "code",
   "execution_count": 41,
   "id": "93c4de6e",
   "metadata": {},
   "outputs": [
    {
     "data": {
      "text/plain": [
       "CRIM       0\n",
       "ZN         0\n",
       "INDUS      0\n",
       "CHAS       0\n",
       "NOX        0\n",
       "RM         0\n",
       "AGE        0\n",
       "DIS        0\n",
       "RAD        0\n",
       "TAX        0\n",
       "PTRATIO    0\n",
       "B          0\n",
       "LSTAT      0\n",
       "MEDV       0\n",
       "dtype: int64"
      ]
     },
     "execution_count": 41,
     "metadata": {},
     "output_type": "execute_result"
    }
   ],
   "source": [
    "# No missing values present in boston dataset\n",
    "\n",
    "boston_df.isnull().sum()"
   ]
  },
  {
   "cell_type": "code",
   "execution_count": 43,
   "id": "c9688e43",
   "metadata": {},
   "outputs": [
    {
     "data": {
      "text/plain": [
       "CRIM       float64\n",
       "ZN         float64\n",
       "INDUS      float64\n",
       "CHAS         int64\n",
       "NOX        float64\n",
       "RM         float64\n",
       "AGE        float64\n",
       "DIS        float64\n",
       "RAD          int64\n",
       "TAX        float64\n",
       "PTRATIO    float64\n",
       "B          float64\n",
       "LSTAT      float64\n",
       "MEDV       float64\n",
       "dtype: object"
      ]
     },
     "execution_count": 43,
     "metadata": {},
     "output_type": "execute_result"
    }
   ],
   "source": [
    "#all datatypes are numerical,hence no encoding is required\n",
    "\n",
    "boston_df.dtypes"
   ]
  },
  {
   "cell_type": "code",
   "execution_count": null,
   "id": "6201ef96",
   "metadata": {},
   "outputs": [],
   "source": [
    "#outliers handling\n",
    "1)imputation method:impute with mode,median,upper_tail,lower_tail\n",
    "2)delete method:delete all the outliers value from the dataset\n",
    "3)transformation method"
   ]
  },
  {
   "cell_type": "code",
   "execution_count": 45,
   "id": "1a7c460c",
   "metadata": {},
   "outputs": [
    {
     "data": {
      "text/plain": [
       "<AxesSubplot:>"
      ]
     },
     "execution_count": 45,
     "metadata": {},
     "output_type": "execute_result"
    },
    {
     "data": {
      "image/png": "[encoded data removed]",
      "text/plain": [
       "<Figure size 432x288 with 1 Axes>"
      ]
     },
     "metadata": {
      "needs_background": "light"
     },
     "output_type": "display_data"
    }
   ],
   "source": [
    "# transformation method:\n",
    "\n",
    "boston_df[\"CRIM\"]=np.sqrt(boston_df[\"CRIM\"])\n",
    "\n",
    "boston_df[[\"CRIM\"]].boxplot()"
   ]
  },
  {
   "cell_type": "code",
   "execution_count": 48,
   "id": "d334a4ca",
   "metadata": {},
   "outputs": [
    {
     "data": {
      "text/plain": [
       "<AxesSubplot:>"
      ]
     },
     "execution_count": 48,
     "metadata": {},
     "output_type": "execute_result"
    },
    {
     "data": {
      "image/png": "[encoded data removed]",
      "text/plain": [
       "<Figure size 432x288 with 1 Axes>"
      ]
     },
     "metadata": {
      "needs_background": "light"
     },
     "output_type": "display_data"
    }
   ],
   "source": [
    "boston_df[\"ZN\"]=np.cbrt(boston_df[\"ZN\"])\n",
    "\n",
    "boston_df[[\"ZN\"]].boxplot()"
   ]
  },
  {
   "cell_type": "code",
   "execution_count": 52,
   "id": "2c8042ec",
   "metadata": {},
   "outputs": [
    {
     "data": {
      "text/plain": [
       "<AxesSubplot:>"
      ]
     },
     "execution_count": 52,
     "metadata": {},
     "output_type": "execute_result"
    },
    {
     "data": {
      "image/png": "[encoded data removed]",
      "text/plain": [
       "<Figure size 432x288 with 1 Axes>"
      ]
     },
     "metadata": {
      "needs_background": "light"
     },
     "output_type": "display_data"
    }
   ],
   "source": [
    "boston_df[\"B\"]=np.cbrt(boston_df[\"B\"])\n",
    "\n",
    "boston_df[[\"B\"]].boxplot()"
   ]
  },
  {
   "cell_type": "code",
   "execution_count": null,
   "id": "d8b0537f",
   "metadata": {},
   "outputs": [],
   "source": [
    "#deletion method we never follow because it comes under data loss"
   ]
  },
  {
   "cell_type": "code",
   "execution_count": 61,
   "id": "98c3a34b",
   "metadata": {},
   "outputs": [],
   "source": [
    "#imputation method: imputing outliers value with upper_tail and lower_tail"
   ]
  },
  {
   "cell_type": "code",
   "execution_count": 96,
   "id": "a0c3d681",
   "metadata": {},
   "outputs": [
    {
     "name": "stdout",
     "output_type": "stream",
     "text": [
      "upper_tail=9.06963875,lower_tail=-5.31051125\n"
     ]
    },
    {
     "name": "stderr",
     "output_type": "stream",
     "text": [
      "C:\\Users\\JOTIBA\\AppData\\Local\\Temp\\ipykernel_10788\\1574088786.py:5: SettingWithCopyWarning: \n",
      "A value is trying to be set on a copy of a slice from a DataFrame\n",
      "\n",
      "See the caveats in the documentation: https://pandas.pydata.org/pandas-docs/stable/user_guide/indexing.html#returning-a-view-versus-a-copy\n",
      "  boston_df[\"CRIM\"].loc[boston_df[\"CRIM\"]>=upper_tail_CRIM]=upper_tail_CRIM\n"
     ]
    },
    {
     "data": {
      "text/plain": [
       "<AxesSubplot:>"
      ]
     },
     "execution_count": 96,
     "metadata": {},
     "output_type": "execute_result"
    },
    {
     "data": {
      "image/png": "[encoded data removed]",
      "text/plain": [
       "<Figure size 432x288 with 1 Axes>"
      ]
     },
     "metadata": {
      "needs_background": "light"
     },
     "output_type": "display_data"
    }
   ],
   "source": [
    "#CRIM feature:\n",
    "\n",
    "print(f\"upper_tail={upper_tail_CRIM},lower_tail={lower_tail_CRIM}\")\n",
    "\n",
    "boston_df[\"CRIM\"].loc[boston_df[\"CRIM\"]>=upper_tail_CRIM]=upper_tail_CRIM\n",
    "\n",
    "boston_df[[\"CRIM\"]].boxplot()"
   ]
  },
  {
   "cell_type": "markdown",
   "id": "46799f2c",
   "metadata": {},
   "source": [
    "All upper_tail outliers value are now replaced with upper_tail value"
   ]
  },
  {
   "cell_type": "code",
   "execution_count": 97,
   "id": "6395a12f",
   "metadata": {},
   "outputs": [
    {
     "name": "stdout",
     "output_type": "stream",
     "text": [
      "upper_tail=31.25,lower_tail=-18.75\n"
     ]
    },
    {
     "name": "stderr",
     "output_type": "stream",
     "text": [
      "C:\\Users\\JOTIBA\\AppData\\Local\\Temp\\ipykernel_10788\\3932711541.py:5: SettingWithCopyWarning: \n",
      "A value is trying to be set on a copy of a slice from a DataFrame\n",
      "\n",
      "See the caveats in the documentation: https://pandas.pydata.org/pandas-docs/stable/user_guide/indexing.html#returning-a-view-versus-a-copy\n",
      "  boston_df[\"ZN\"].loc[boston_df[\"ZN\"]>=upper_tail_ZN]=upper_tail_ZN\n"
     ]
    },
    {
     "data": {
      "text/plain": [
       "<AxesSubplot:>"
      ]
     },
     "execution_count": 97,
     "metadata": {},
     "output_type": "execute_result"
    },
    {
     "data": {
      "image/png": "[encoded data removed]",
      "text/plain": [
       "<Figure size 432x288 with 1 Axes>"
      ]
     },
     "metadata": {
      "needs_background": "light"
     },
     "output_type": "display_data"
    }
   ],
   "source": [
    "#ZN feature:\n",
    "\n",
    "print(f\"upper_tail={upper_tail_ZN},lower_tail={lower_tail_ZN}\")\n",
    "\n",
    "boston_df[\"ZN\"].loc[boston_df[\"ZN\"]>=upper_tail_ZN]=upper_tail_ZN\n",
    "\n",
    "boston_df[[\"ZN\"]].boxplot()"
   ]
  },
  {
   "cell_type": "markdown",
   "id": "4b2621ed",
   "metadata": {},
   "source": [
    "All upper_tail outliers value are now replaced with upper_tail value"
   ]
  },
  {
   "cell_type": "code",
   "execution_count": 98,
   "id": "d4283d7d",
   "metadata": {},
   "outputs": [
    {
     "name": "stdout",
     "output_type": "stream",
     "text": [
      "upper_tail=427.49625000000003,lower_tail=344.10624999999993\n"
     ]
    },
    {
     "name": "stderr",
     "output_type": "stream",
     "text": [
      "C:\\Users\\JOTIBA\\AppData\\Local\\Temp\\ipykernel_10788\\3983270035.py:5: SettingWithCopyWarning: \n",
      "A value is trying to be set on a copy of a slice from a DataFrame\n",
      "\n",
      "See the caveats in the documentation: https://pandas.pydata.org/pandas-docs/stable/user_guide/indexing.html#returning-a-view-versus-a-copy\n",
      "  boston_df[\"B\"].loc[boston_df[\"B\"]<=lower_tail_B]=lower_tail_B\n"
     ]
    },
    {
     "data": {
      "text/plain": [
       "<AxesSubplot:>"
      ]
     },
     "execution_count": 98,
     "metadata": {},
     "output_type": "execute_result"
    },
    {
     "data": {
      "image/png": "[encoded data removed]",
      "text/plain": [
       "<Figure size 432x288 with 1 Axes>"
      ]
     },
     "metadata": {
      "needs_background": "light"
     },
     "output_type": "display_data"
    }
   ],
   "source": [
    "#B feature:\n",
    "\n",
    "print(f\"upper_tail={upper_tail_B},lower_tail={lower_tail_B}\")\n",
    "\n",
    "boston_df[\"B\"].loc[boston_df[\"B\"]<=lower_tail_B]=lower_tail_B\n",
    "\n",
    "boston_df[[\"B\"]].boxplot()"
   ]
  },
  {
   "cell_type": "markdown",
   "id": "80a80c16",
   "metadata": {},
   "source": [
    "All lower_tail outliers value are now replaced with lower_tail value"
   ]
  },
  {
   "cell_type": "code",
   "execution_count": 99,
   "id": "e0bd6f60",
   "metadata": {},
   "outputs": [
    {
     "data": {
      "text/plain": [
       "<AxesSubplot:>"
      ]
     },
     "execution_count": 99,
     "metadata": {},
     "output_type": "execute_result"
    },
    {
     "data": {
      "image/png": "[encoded data removed]",
      "text/plain": [
       "<Figure size 432x288 with 1 Axes>"
      ]
     },
     "metadata": {
      "needs_background": "light"
     },
     "output_type": "display_data"
    }
   ],
   "source": [
    "# withput outliers\n",
    "boston_df.boxplot()"
   ]
  },
  {
   "cell_type": "code",
   "execution_count": 100,
   "id": "41425e04",
   "metadata": {},
   "outputs": [],
   "source": [
    "#feature scalling\n",
    "\n",
    "from sklearn.preprocessing import StandardScaler, MinMaxScaler"
   ]
  },
  {
   "cell_type": "code",
   "execution_count": 101,
   "id": "1ab3a369",
   "metadata": {},
   "outputs": [
    {
     "data": {
      "text/html": [
       "<div>\n",
       "<style scoped>\n",
       "    .dataframe tbody tr th:only-of-type {\n",
       "        vertical-align: middle;\n",
       "    }\n",
       "\n",
       "    .dataframe tbody tr th {\n",
       "        vertical-align: top;\n",
       "    }\n",
       "\n",
       "    .dataframe thead th {\n",
       "        text-align: right;\n",
       "    }\n",
       "</style>\n",
       "<table border=\"1\" class=\"dataframe\">\n",
       "  <thead>\n",
       "    <tr style=\"text-align: right;\">\n",
       "      <th></th>\n",
       "      <th>CRIM</th>\n",
       "      <th>ZN</th>\n",
       "      <th>INDUS</th>\n",
       "      <th>CHAS</th>\n",
       "      <th>NOX</th>\n",
       "      <th>RM</th>\n",
       "      <th>AGE</th>\n",
       "      <th>DIS</th>\n",
       "      <th>RAD</th>\n",
       "      <th>TAX</th>\n",
       "      <th>PTRATIO</th>\n",
       "      <th>B</th>\n",
       "      <th>LSTAT</th>\n",
       "    </tr>\n",
       "  </thead>\n",
       "  <tbody>\n",
       "    <tr>\n",
       "      <th>0</th>\n",
       "      <td>0.000000</td>\n",
       "      <td>0.576</td>\n",
       "      <td>0.067815</td>\n",
       "      <td>0.0</td>\n",
       "      <td>0.314815</td>\n",
       "      <td>0.577505</td>\n",
       "      <td>0.641607</td>\n",
       "      <td>0.269203</td>\n",
       "      <td>0.000000</td>\n",
       "      <td>0.208015</td>\n",
       "      <td>0.287234</td>\n",
       "      <td>1.000000</td>\n",
       "      <td>0.089680</td>\n",
       "    </tr>\n",
       "    <tr>\n",
       "      <th>1</th>\n",
       "      <td>0.002316</td>\n",
       "      <td>0.000</td>\n",
       "      <td>0.242302</td>\n",
       "      <td>0.0</td>\n",
       "      <td>0.172840</td>\n",
       "      <td>0.547998</td>\n",
       "      <td>0.782698</td>\n",
       "      <td>0.348962</td>\n",
       "      <td>0.043478</td>\n",
       "      <td>0.104962</td>\n",
       "      <td>0.553191</td>\n",
       "      <td>1.000000</td>\n",
       "      <td>0.204470</td>\n",
       "    </tr>\n",
       "    <tr>\n",
       "      <th>2</th>\n",
       "      <td>0.002314</td>\n",
       "      <td>0.000</td>\n",
       "      <td>0.242302</td>\n",
       "      <td>0.0</td>\n",
       "      <td>0.172840</td>\n",
       "      <td>0.694386</td>\n",
       "      <td>0.599382</td>\n",
       "      <td>0.348962</td>\n",
       "      <td>0.043478</td>\n",
       "      <td>0.104962</td>\n",
       "      <td>0.553191</td>\n",
       "      <td>0.922908</td>\n",
       "      <td>0.063466</td>\n",
       "    </tr>\n",
       "    <tr>\n",
       "      <th>3</th>\n",
       "      <td>0.002874</td>\n",
       "      <td>0.000</td>\n",
       "      <td>0.063050</td>\n",
       "      <td>0.0</td>\n",
       "      <td>0.150206</td>\n",
       "      <td>0.658555</td>\n",
       "      <td>0.441813</td>\n",
       "      <td>0.448545</td>\n",
       "      <td>0.086957</td>\n",
       "      <td>0.066794</td>\n",
       "      <td>0.648936</td>\n",
       "      <td>0.957002</td>\n",
       "      <td>0.033389</td>\n",
       "    </tr>\n",
       "    <tr>\n",
       "      <th>4</th>\n",
       "      <td>0.006921</td>\n",
       "      <td>0.000</td>\n",
       "      <td>0.063050</td>\n",
       "      <td>0.0</td>\n",
       "      <td>0.150206</td>\n",
       "      <td>0.687105</td>\n",
       "      <td>0.528321</td>\n",
       "      <td>0.448545</td>\n",
       "      <td>0.086957</td>\n",
       "      <td>0.066794</td>\n",
       "      <td>0.648936</td>\n",
       "      <td>1.000000</td>\n",
       "      <td>0.099338</td>\n",
       "    </tr>\n",
       "    <tr>\n",
       "      <th>...</th>\n",
       "      <td>...</td>\n",
       "      <td>...</td>\n",
       "      <td>...</td>\n",
       "      <td>...</td>\n",
       "      <td>...</td>\n",
       "      <td>...</td>\n",
       "      <td>...</td>\n",
       "      <td>...</td>\n",
       "      <td>...</td>\n",
       "      <td>...</td>\n",
       "      <td>...</td>\n",
       "      <td>...</td>\n",
       "      <td>...</td>\n",
       "    </tr>\n",
       "    <tr>\n",
       "      <th>501</th>\n",
       "      <td>0.006213</td>\n",
       "      <td>0.000</td>\n",
       "      <td>0.420455</td>\n",
       "      <td>0.0</td>\n",
       "      <td>0.386831</td>\n",
       "      <td>0.580954</td>\n",
       "      <td>0.681771</td>\n",
       "      <td>0.122671</td>\n",
       "      <td>0.000000</td>\n",
       "      <td>0.164122</td>\n",
       "      <td>0.893617</td>\n",
       "      <td>0.906997</td>\n",
       "      <td>0.219095</td>\n",
       "    </tr>\n",
       "    <tr>\n",
       "      <th>502</th>\n",
       "      <td>0.004298</td>\n",
       "      <td>0.000</td>\n",
       "      <td>0.420455</td>\n",
       "      <td>0.0</td>\n",
       "      <td>0.386831</td>\n",
       "      <td>0.490324</td>\n",
       "      <td>0.760041</td>\n",
       "      <td>0.105293</td>\n",
       "      <td>0.000000</td>\n",
       "      <td>0.164122</td>\n",
       "      <td>0.893617</td>\n",
       "      <td>1.000000</td>\n",
       "      <td>0.202815</td>\n",
       "    </tr>\n",
       "    <tr>\n",
       "      <th>503</th>\n",
       "      <td>0.006007</td>\n",
       "      <td>0.000</td>\n",
       "      <td>0.420455</td>\n",
       "      <td>0.0</td>\n",
       "      <td>0.386831</td>\n",
       "      <td>0.654340</td>\n",
       "      <td>0.907312</td>\n",
       "      <td>0.094381</td>\n",
       "      <td>0.000000</td>\n",
       "      <td>0.164122</td>\n",
       "      <td>0.893617</td>\n",
       "      <td>1.000000</td>\n",
       "      <td>0.107892</td>\n",
       "    </tr>\n",
       "    <tr>\n",
       "      <th>504</th>\n",
       "      <td>0.011394</td>\n",
       "      <td>0.000</td>\n",
       "      <td>0.420455</td>\n",
       "      <td>0.0</td>\n",
       "      <td>0.386831</td>\n",
       "      <td>0.619467</td>\n",
       "      <td>0.889804</td>\n",
       "      <td>0.114514</td>\n",
       "      <td>0.000000</td>\n",
       "      <td>0.164122</td>\n",
       "      <td>0.893617</td>\n",
       "      <td>0.934651</td>\n",
       "      <td>0.131071</td>\n",
       "    </tr>\n",
       "    <tr>\n",
       "      <th>505</th>\n",
       "      <td>0.004534</td>\n",
       "      <td>0.000</td>\n",
       "      <td>0.420455</td>\n",
       "      <td>0.0</td>\n",
       "      <td>0.386831</td>\n",
       "      <td>0.473079</td>\n",
       "      <td>0.802266</td>\n",
       "      <td>0.125072</td>\n",
       "      <td>0.000000</td>\n",
       "      <td>0.164122</td>\n",
       "      <td>0.893617</td>\n",
       "      <td>1.000000</td>\n",
       "      <td>0.169702</td>\n",
       "    </tr>\n",
       "  </tbody>\n",
       "</table>\n",
       "<p>506 rows × 13 columns</p>\n",
       "</div>"
      ],
      "text/plain": [
       "         CRIM     ZN     INDUS  CHAS       NOX        RM       AGE       DIS  \\\n",
       "0    0.000000  0.576  0.067815   0.0  0.314815  0.577505  0.641607  0.269203   \n",
       "1    0.002316  0.000  0.242302   0.0  0.172840  0.547998  0.782698  0.348962   \n",
       "2    0.002314  0.000  0.242302   0.0  0.172840  0.694386  0.599382  0.348962   \n",
       "3    0.002874  0.000  0.063050   0.0  0.150206  0.658555  0.441813  0.448545   \n",
       "4    0.006921  0.000  0.063050   0.0  0.150206  0.687105  0.528321  0.448545   \n",
       "..        ...    ...       ...   ...       ...       ...       ...       ...   \n",
       "501  0.006213  0.000  0.420455   0.0  0.386831  0.580954  0.681771  0.122671   \n",
       "502  0.004298  0.000  0.420455   0.0  0.386831  0.490324  0.760041  0.105293   \n",
       "503  0.006007  0.000  0.420455   0.0  0.386831  0.654340  0.907312  0.094381   \n",
       "504  0.011394  0.000  0.420455   0.0  0.386831  0.619467  0.889804  0.114514   \n",
       "505  0.004534  0.000  0.420455   0.0  0.386831  0.473079  0.802266  0.125072   \n",
       "\n",
       "          RAD       TAX   PTRATIO         B     LSTAT  \n",
       "0    0.000000  0.208015  0.287234  1.000000  0.089680  \n",
       "1    0.043478  0.104962  0.553191  1.000000  0.204470  \n",
       "2    0.043478  0.104962  0.553191  0.922908  0.063466  \n",
       "3    0.086957  0.066794  0.648936  0.957002  0.033389  \n",
       "4    0.086957  0.066794  0.648936  1.000000  0.099338  \n",
       "..        ...       ...       ...       ...       ...  \n",
       "501  0.000000  0.164122  0.893617  0.906997  0.219095  \n",
       "502  0.000000  0.164122  0.893617  1.000000  0.202815  \n",
       "503  0.000000  0.164122  0.893617  1.000000  0.107892  \n",
       "504  0.000000  0.164122  0.893617  0.934651  0.131071  \n",
       "505  0.000000  0.164122  0.893617  1.000000  0.169702  \n",
       "\n",
       "[506 rows x 13 columns]"
      ]
     },
     "execution_count": 101,
     "metadata": {},
     "output_type": "execute_result"
    }
   ],
   "source": [
    "x=boston_df.drop(\"MEDV\",axis=1)\n",
    "\n",
    "normal_scaler=MinMaxScaler()\n",
    "normal_scaler.fit(x)\n",
    "array=normal_scaler.transform(x)\n",
    "df=pd.DataFrame(array,columns=x.columns)\n",
    "df"
   ]
  },
  {
   "cell_type": "markdown",
   "id": "65e982c8",
   "metadata": {},
   "source": [
    "Now all features are in same scale"
   ]
  },
  {
   "cell_type": "markdown",
   "id": "bab444fa",
   "metadata": {},
   "source": [
    "# feature selection"
   ]
  },
  {
   "cell_type": "code",
   "execution_count": null,
   "id": "8b5caac0",
   "metadata": {},
   "outputs": [],
   "source": [
    "# feature selection method:\n",
    "1)filter method\n",
    "2)wrapper method\n",
    "3)embedded method"
   ]
  },
  {
   "cell_type": "code",
   "execution_count": 102,
   "id": "3c0cb302",
   "metadata": {},
   "outputs": [
    {
     "data": {
      "text/plain": [
       "CRIM       0.0\n",
       "ZN         0.0\n",
       "INDUS      0.0\n",
       "CHAS       0.0\n",
       "NOX        0.0\n",
       "RM         0.0\n",
       "AGE        0.0\n",
       "DIS        0.0\n",
       "RAD        0.0\n",
       "TAX        0.0\n",
       "PTRATIO    0.0\n",
       "B          0.0\n",
       "LSTAT      0.0\n",
       "MEDV       0.0\n",
       "dtype: float64"
      ]
     },
     "execution_count": 102,
     "metadata": {},
     "output_type": "execute_result"
    }
   ],
   "source": [
    "#filter method\n",
    "#missing value detection\n",
    "\n",
    "boston_df.isna().mean()"
   ]
  },
  {
   "cell_type": "code",
   "execution_count": 103,
   "id": "a6ddf45c",
   "metadata": {},
   "outputs": [
    {
     "data": {
      "image/png": "[encoded data removed]",
      "text/plain": [
       "<Figure size 1080x720 with 2 Axes>"
      ]
     },
     "metadata": {
      "needs_background": "light"
     },
     "output_type": "display_data"
    }
   ],
   "source": [
    "#correlation\n",
    "\n",
    "correlation=boston_df.corr()\n",
    "plt.figure(figsize=(15,10))\n",
    "sns.heatmap(correlation,annot=True)\n",
    "plt.show()"
   ]
  },
  {
   "cell_type": "code",
   "execution_count": 104,
   "id": "cd17dad6",
   "metadata": {},
   "outputs": [
    {
     "data": {
      "image/png": "[encoded data removed]",
      "text/plain": [
       "<Figure size 1080x72 with 2 Axes>"
      ]
     },
     "metadata": {
      "needs_background": "light"
     },
     "output_type": "display_data"
    }
   ],
   "source": [
    "correlation=boston_df.corr()\n",
    "a=correlation.tail(1)\n",
    "plt.figure(figsize=(15,1))\n",
    "sns.heatmap(a,annot=True)\n",
    "plt.show()"
   ]
  },
  {
   "cell_type": "code",
   "execution_count": 106,
   "id": "1d3d9fb0",
   "metadata": {},
   "outputs": [
    {
     "data": {
      "text/plain": [
       "<AxesSubplot:>"
      ]
     },
     "execution_count": 106,
     "metadata": {},
     "output_type": "execute_result"
    },
    {
     "data": {
      "image/png": "[encoded data removed]",
      "text/plain": [
       "<Figure size 432x288 with 1 Axes>"
      ]
     },
     "metadata": {
      "needs_background": "light"
     },
     "output_type": "display_data"
    }
   ],
   "source": [
    "#variance threshold\n",
    "\n",
    "variance=df.var()\n",
    "variance.plot(kind=\"bar\")"
   ]
  },
  {
   "cell_type": "code",
   "execution_count": 107,
   "id": "d7914ec3",
   "metadata": {},
   "outputs": [
    {
     "name": "stderr",
     "output_type": "stream",
     "text": [
      "C:\\Users\\JOTIBA\\anaconda3\\lib\\site-packages\\skfeature\\utility\\construct_W.py:194: FutureWarning: Support for multi-dimensional indexing (e.g. `obj[:, None]`) is deprecated and will be removed in a future version.  Convert to a numpy array before indexing instead.\n",
      "  class_idx_all = class_idx[:, np.newaxis] & class_idx[np.newaxis, :]\n"
     ]
    },
    {
     "data": {
      "text/plain": [
       "<AxesSubplot:>"
      ]
     },
     "execution_count": 107,
     "metadata": {},
     "output_type": "execute_result"
    },
    {
     "data": {
      "image/png": "[encoded data removed]",
      "text/plain": [
       "<Figure size 432x288 with 1 Axes>"
      ]
     },
     "metadata": {
      "needs_background": "light"
     },
     "output_type": "display_data"
    }
   ],
   "source": [
    "#fisher score\n",
    "\n",
    "from skfeature.function.similarity_based import fisher_score\n",
    "x=df\n",
    "y=boston_df[\"MEDV\"]\n",
    "fisher_score=fisher_score.fisher_score(x.values,y)\n",
    "s1=pd.Series(fisher_score,index=x.columns)\n",
    "s1.sort_values().plot(kind=\"barh\")"
   ]
  },
  {
   "cell_type": "code",
   "execution_count": 108,
   "id": "c057c0ef",
   "metadata": {},
   "outputs": [
    {
     "data": {
      "text/plain": [
       "<AxesSubplot:>"
      ]
     },
     "execution_count": 108,
     "metadata": {},
     "output_type": "execute_result"
    },
    {
     "data": {
      "image/png": "[encoded data removed]",
      "text/plain": [
       "<Figure size 432x288 with 1 Axes>"
      ]
     },
     "metadata": {
      "needs_background": "light"
     },
     "output_type": "display_data"
    }
   ],
   "source": [
    "#information gain\n",
    "\n",
    "from sklearn.feature_selection import mutual_info_regression\n",
    "\n",
    "gain=mutual_info_regression(x,y)\n",
    "s1=pd.Series(gain,index=x.columns)\n",
    "s1.sort_values().plot(kind=\"barh\")"
   ]
  },
  {
   "cell_type": "markdown",
   "id": "0dc38841",
   "metadata": {},
   "source": [
    "From the above feature observations, we found that some columns are most important such as LSTAT and RM"
   ]
  },
  {
   "cell_type": "markdown",
   "id": "37b97d19",
   "metadata": {},
   "source": [
    "# building machine learning model"
   ]
  },
  {
   "cell_type": "code",
   "execution_count": 149,
   "id": "25ffc49f",
   "metadata": {},
   "outputs": [],
   "source": [
    "#Splitting data as train and test data\n",
    "\n",
    "x_train,x_test,y_train,y_test=train_test_split(x,y,test_size=0.20,random_state=42)"
   ]
  },
  {
   "cell_type": "code",
   "execution_count": 150,
   "id": "96644c75",
   "metadata": {},
   "outputs": [
    {
     "data": {
      "text/html": [
       "<div>\n",
       "<style scoped>\n",
       "    .dataframe tbody tr th:only-of-type {\n",
       "        vertical-align: middle;\n",
       "    }\n",
       "\n",
       "    .dataframe tbody tr th {\n",
       "        vertical-align: top;\n",
       "    }\n",
       "\n",
       "    .dataframe thead th {\n",
       "        text-align: right;\n",
       "    }\n",
       "</style>\n",
       "<table border=\"1\" class=\"dataframe\">\n",
       "  <thead>\n",
       "    <tr style=\"text-align: right;\">\n",
       "      <th></th>\n",
       "      <th>CRIM</th>\n",
       "      <th>ZN</th>\n",
       "      <th>INDUS</th>\n",
       "      <th>CHAS</th>\n",
       "      <th>NOX</th>\n",
       "      <th>RM</th>\n",
       "      <th>AGE</th>\n",
       "      <th>DIS</th>\n",
       "      <th>RAD</th>\n",
       "      <th>TAX</th>\n",
       "      <th>PTRATIO</th>\n",
       "      <th>B</th>\n",
       "      <th>LSTAT</th>\n",
       "    </tr>\n",
       "  </thead>\n",
       "  <tbody>\n",
       "    <tr>\n",
       "      <th>477</th>\n",
       "      <td>1.000000</td>\n",
       "      <td>0.0</td>\n",
       "      <td>0.646628</td>\n",
       "      <td>0.0</td>\n",
       "      <td>0.471193</td>\n",
       "      <td>0.333972</td>\n",
       "      <td>0.972194</td>\n",
       "      <td>0.088307</td>\n",
       "      <td>1.000000</td>\n",
       "      <td>0.914122</td>\n",
       "      <td>0.808511</td>\n",
       "      <td>0.101788</td>\n",
       "      <td>0.639625</td>\n",
       "    </tr>\n",
       "    <tr>\n",
       "      <th>15</th>\n",
       "      <td>0.068526</td>\n",
       "      <td>0.0</td>\n",
       "      <td>0.281525</td>\n",
       "      <td>0.0</td>\n",
       "      <td>0.314815</td>\n",
       "      <td>0.435524</td>\n",
       "      <td>0.552008</td>\n",
       "      <td>0.306359</td>\n",
       "      <td>0.130435</td>\n",
       "      <td>0.229008</td>\n",
       "      <td>0.893617</td>\n",
       "      <td>0.975755</td>\n",
       "      <td>0.185982</td>\n",
       "    </tr>\n",
       "    <tr>\n",
       "      <th>332</th>\n",
       "      <td>0.003127</td>\n",
       "      <td>1.0</td>\n",
       "      <td>0.205279</td>\n",
       "      <td>0.0</td>\n",
       "      <td>0.108848</td>\n",
       "      <td>0.473271</td>\n",
       "      <td>0.210093</td>\n",
       "      <td>0.501150</td>\n",
       "      <td>0.000000</td>\n",
       "      <td>0.223282</td>\n",
       "      <td>0.457447</td>\n",
       "      <td>0.343672</td>\n",
       "      <td>0.168322</td>\n",
       "    </tr>\n",
       "    <tr>\n",
       "      <th>423</th>\n",
       "      <td>0.777210</td>\n",
       "      <td>0.0</td>\n",
       "      <td>0.646628</td>\n",
       "      <td>0.0</td>\n",
       "      <td>0.471193</td>\n",
       "      <td>0.487066</td>\n",
       "      <td>0.846550</td>\n",
       "      <td>0.081132</td>\n",
       "      <td>1.000000</td>\n",
       "      <td>0.914122</td>\n",
       "      <td>0.808511</td>\n",
       "      <td>0.000000</td>\n",
       "      <td>0.594923</td>\n",
       "    </tr>\n",
       "    <tr>\n",
       "      <th>19</th>\n",
       "      <td>0.079384</td>\n",
       "      <td>0.0</td>\n",
       "      <td>0.281525</td>\n",
       "      <td>0.0</td>\n",
       "      <td>0.314815</td>\n",
       "      <td>0.415022</td>\n",
       "      <td>0.685891</td>\n",
       "      <td>0.242514</td>\n",
       "      <td>0.130435</td>\n",
       "      <td>0.229008</td>\n",
       "      <td>0.893617</td>\n",
       "      <td>0.887297</td>\n",
       "      <td>0.263521</td>\n",
       "    </tr>\n",
       "  </tbody>\n",
       "</table>\n",
       "</div>"
      ],
      "text/plain": [
       "         CRIM   ZN     INDUS  CHAS       NOX        RM       AGE       DIS  \\\n",
       "477  1.000000  0.0  0.646628   0.0  0.471193  0.333972  0.972194  0.088307   \n",
       "15   0.068526  0.0  0.281525   0.0  0.314815  0.435524  0.552008  0.306359   \n",
       "332  0.003127  1.0  0.205279   0.0  0.108848  0.473271  0.210093  0.501150   \n",
       "423  0.777210  0.0  0.646628   0.0  0.471193  0.487066  0.846550  0.081132   \n",
       "19   0.079384  0.0  0.281525   0.0  0.314815  0.415022  0.685891  0.242514   \n",
       "\n",
       "          RAD       TAX   PTRATIO         B     LSTAT  \n",
       "477  1.000000  0.914122  0.808511  0.101788  0.639625  \n",
       "15   0.130435  0.229008  0.893617  0.975755  0.185982  \n",
       "332  0.000000  0.223282  0.457447  0.343672  0.168322  \n",
       "423  1.000000  0.914122  0.808511  0.000000  0.594923  \n",
       "19   0.130435  0.229008  0.893617  0.887297  0.263521  "
      ]
     },
     "execution_count": 150,
     "metadata": {},
     "output_type": "execute_result"
    }
   ],
   "source": [
    "#testing of train and test\n",
    "\n",
    "x_train.head()"
   ]
  },
  {
   "cell_type": "code",
   "execution_count": 151,
   "id": "ad677b63",
   "metadata": {},
   "outputs": [
    {
     "data": {
      "text/html": [
       "<div>\n",
       "<style scoped>\n",
       "    .dataframe tbody tr th:only-of-type {\n",
       "        vertical-align: middle;\n",
       "    }\n",
       "\n",
       "    .dataframe tbody tr th {\n",
       "        vertical-align: top;\n",
       "    }\n",
       "\n",
       "    .dataframe thead th {\n",
       "        text-align: right;\n",
       "    }\n",
       "</style>\n",
       "<table border=\"1\" class=\"dataframe\">\n",
       "  <thead>\n",
       "    <tr style=\"text-align: right;\">\n",
       "      <th></th>\n",
       "      <th>CRIM</th>\n",
       "      <th>ZN</th>\n",
       "      <th>INDUS</th>\n",
       "      <th>CHAS</th>\n",
       "      <th>NOX</th>\n",
       "      <th>RM</th>\n",
       "      <th>AGE</th>\n",
       "      <th>DIS</th>\n",
       "      <th>RAD</th>\n",
       "      <th>TAX</th>\n",
       "      <th>PTRATIO</th>\n",
       "      <th>B</th>\n",
       "      <th>LSTAT</th>\n",
       "    </tr>\n",
       "  </thead>\n",
       "  <tbody>\n",
       "    <tr>\n",
       "      <th>173</th>\n",
       "      <td>0.009429</td>\n",
       "      <td>0.0</td>\n",
       "      <td>0.131598</td>\n",
       "      <td>0.0</td>\n",
       "      <td>0.257202</td>\n",
       "      <td>0.547040</td>\n",
       "      <td>0.836251</td>\n",
       "      <td>0.137921</td>\n",
       "      <td>0.173913</td>\n",
       "      <td>0.208015</td>\n",
       "      <td>0.425532</td>\n",
       "      <td>0.973482</td>\n",
       "      <td>0.201711</td>\n",
       "    </tr>\n",
       "    <tr>\n",
       "      <th>274</th>\n",
       "      <td>0.005530</td>\n",
       "      <td>1.0</td>\n",
       "      <td>0.218109</td>\n",
       "      <td>1.0</td>\n",
       "      <td>0.127572</td>\n",
       "      <td>0.612569</td>\n",
       "      <td>0.308960</td>\n",
       "      <td>0.268076</td>\n",
       "      <td>0.130435</td>\n",
       "      <td>0.127863</td>\n",
       "      <td>0.531915</td>\n",
       "      <td>1.000000</td>\n",
       "      <td>0.049669</td>\n",
       "    </tr>\n",
       "    <tr>\n",
       "      <th>491</th>\n",
       "      <td>0.010969</td>\n",
       "      <td>0.0</td>\n",
       "      <td>1.000000</td>\n",
       "      <td>0.0</td>\n",
       "      <td>0.460905</td>\n",
       "      <td>0.464074</td>\n",
       "      <td>0.987642</td>\n",
       "      <td>0.067155</td>\n",
       "      <td>0.130435</td>\n",
       "      <td>1.000000</td>\n",
       "      <td>0.797872</td>\n",
       "      <td>0.871386</td>\n",
       "      <td>0.450883</td>\n",
       "    </tr>\n",
       "    <tr>\n",
       "      <th>72</th>\n",
       "      <td>0.009414</td>\n",
       "      <td>0.0</td>\n",
       "      <td>0.379399</td>\n",
       "      <td>0.0</td>\n",
       "      <td>0.057613</td>\n",
       "      <td>0.479785</td>\n",
       "      <td>0.050463</td>\n",
       "      <td>0.378079</td>\n",
       "      <td>0.130435</td>\n",
       "      <td>0.225191</td>\n",
       "      <td>0.702128</td>\n",
       "      <td>0.886540</td>\n",
       "      <td>0.104581</td>\n",
       "    </tr>\n",
       "    <tr>\n",
       "      <th>452</th>\n",
       "      <td>0.560926</td>\n",
       "      <td>0.0</td>\n",
       "      <td>0.646628</td>\n",
       "      <td>0.0</td>\n",
       "      <td>0.674897</td>\n",
       "      <td>0.524238</td>\n",
       "      <td>0.915551</td>\n",
       "      <td>0.112632</td>\n",
       "      <td>1.000000</td>\n",
       "      <td>0.914122</td>\n",
       "      <td>0.808511</td>\n",
       "      <td>0.776299</td>\n",
       "      <td>0.428808</td>\n",
       "    </tr>\n",
       "  </tbody>\n",
       "</table>\n",
       "</div>"
      ],
      "text/plain": [
       "         CRIM   ZN     INDUS  CHAS       NOX        RM       AGE       DIS  \\\n",
       "173  0.009429  0.0  0.131598   0.0  0.257202  0.547040  0.836251  0.137921   \n",
       "274  0.005530  1.0  0.218109   1.0  0.127572  0.612569  0.308960  0.268076   \n",
       "491  0.010969  0.0  1.000000   0.0  0.460905  0.464074  0.987642  0.067155   \n",
       "72   0.009414  0.0  0.379399   0.0  0.057613  0.479785  0.050463  0.378079   \n",
       "452  0.560926  0.0  0.646628   0.0  0.674897  0.524238  0.915551  0.112632   \n",
       "\n",
       "          RAD       TAX   PTRATIO         B     LSTAT  \n",
       "173  0.173913  0.208015  0.425532  0.973482  0.201711  \n",
       "274  0.130435  0.127863  0.531915  1.000000  0.049669  \n",
       "491  0.130435  1.000000  0.797872  0.871386  0.450883  \n",
       "72   0.130435  0.225191  0.702128  0.886540  0.104581  \n",
       "452  1.000000  0.914122  0.808511  0.776299  0.428808  "
      ]
     },
     "execution_count": 151,
     "metadata": {},
     "output_type": "execute_result"
    }
   ],
   "source": [
    "x_test.head()"
   ]
  },
  {
   "cell_type": "code",
   "execution_count": 152,
   "id": "59770bf0",
   "metadata": {},
   "outputs": [
    {
     "data": {
      "text/plain": [
       "477    12.0\n",
       "15     19.9\n",
       "332    19.4\n",
       "423    13.4\n",
       "19     18.2\n",
       "Name: MEDV, dtype: float64"
      ]
     },
     "execution_count": 152,
     "metadata": {},
     "output_type": "execute_result"
    }
   ],
   "source": [
    "y_train.head()"
   ]
  },
  {
   "cell_type": "code",
   "execution_count": 153,
   "id": "489081fb",
   "metadata": {},
   "outputs": [
    {
     "data": {
      "text/plain": [
       "173    23.6\n",
       "274    32.4\n",
       "491    13.6\n",
       "72     22.8\n",
       "452    16.1\n",
       "Name: MEDV, dtype: float64"
      ]
     },
     "execution_count": 153,
     "metadata": {},
     "output_type": "execute_result"
    }
   ],
   "source": [
    "y_test.head()"
   ]
  },
  {
   "cell_type": "code",
   "execution_count": null,
   "id": "d5011237",
   "metadata": {},
   "outputs": [],
   "source": [
    "#Linear Regression"
   ]
  },
  {
   "cell_type": "code",
   "execution_count": 154,
   "id": "cbf4cd80",
   "metadata": {},
   "outputs": [
    {
     "name": "stdout",
     "output_type": "stream",
     "text": [
      "Training Score :  0.7340886635439579\n",
      "Testing Score  :  0.6651082948279272\n",
      "R2 Score :  0.6651082948279272\n",
      "MSE :  24.558875689279592\n"
     ]
    }
   ],
   "source": [
    "LR=LinearRegression()\n",
    "LR.fit(x_train,y_train)\n",
    "\n",
    "print('Training Score : ', LR.score(x_train, y_train))\n",
    "print('Testing Score  : ', LR.score(x_test, y_test))\n",
    "\n",
    "print('R2 Score : ', r2_score(y_test, LR.predict(x_test)))\n",
    "print('MSE : ', mean_squared_error(y_test, LR.predict(x_test)))"
   ]
  },
  {
   "cell_type": "code",
   "execution_count": null,
   "id": "bdae6804",
   "metadata": {},
   "outputs": [],
   "source": [
    "#DecisionTree Regression"
   ]
  },
  {
   "cell_type": "code",
   "execution_count": 155,
   "id": "e27e0a95",
   "metadata": {},
   "outputs": [
    {
     "name": "stdout",
     "output_type": "stream",
     "text": [
      "Training Score :  0.998482304664964\n",
      "Testing Score  :  0.6982345100660492\n",
      "R2 Score :  0.6982345100660492\n",
      "MSE :  22.12960500408497\n"
     ]
    }
   ],
   "source": [
    "DT_R=DecisionTreeRegressor(max_depth = 12, random_state = 92)\n",
    "DT_R.fit(x_train,y_train)\n",
    "\n",
    "print('Training Score : ', DT_R.score(x_train, y_train))\n",
    "print('Testing Score  : ', DT_R.score(x_test, y_test))\n",
    "\n",
    "print('R2 Score : ', r2_score(y_test, DT_R.predict(x_test)))\n",
    "print('MSE : ', mean_squared_error(y_test,DT_R.predict(x_test)))"
   ]
  },
  {
   "cell_type": "code",
   "execution_count": null,
   "id": "decba14e",
   "metadata": {},
   "outputs": [],
   "source": [
    "#KNN Regression"
   ]
  },
  {
   "cell_type": "code",
   "execution_count": 156,
   "id": "87ff4bbd",
   "metadata": {},
   "outputs": [
    {
     "name": "stdout",
     "output_type": "stream",
     "text": [
      "Training Score :  0.7045995900165798\n",
      "Testing Score  :  0.6392362369906821\n",
      "R2 Score :  0.6392362369906821\n",
      "MSE :  26.456171568627457\n"
     ]
    }
   ],
   "source": [
    "KNN_R=KNeighborsRegressor(n_neighbors=10)\n",
    "KNN_R.fit(x_train,y_train)\n",
    "\n",
    "print('Training Score : ', KNN_R.score(x_train, y_train))\n",
    "print('Testing Score  : ', KNN_R.score(x_test, y_test))\n",
    "\n",
    "print('R2 Score : ', r2_score(y_test, KNN_R.predict(x_test)))\n",
    "print('MSE : ', mean_squared_error(y_test,KNN_R.predict(x_test)))"
   ]
  },
  {
   "cell_type": "code",
   "execution_count": null,
   "id": "affdf67e",
   "metadata": {},
   "outputs": [],
   "source": [
    "#Randomforest Regression"
   ]
  },
  {
   "cell_type": "code",
   "execution_count": 162,
   "id": "96b499e5",
   "metadata": {},
   "outputs": [
    {
     "name": "stdout",
     "output_type": "stream",
     "text": [
      "Training Score :  0.9613054109967731\n",
      "Testing Score  :  0.8832536306620647\n",
      "R2 Score :  0.8832536306620647\n",
      "MSE :  8.561452933783118\n"
     ]
    }
   ],
   "source": [
    "RF_R= RandomForestRegressor(max_depth = 7, random_state = 63)\n",
    "RF_R.fit(x_train, y_train)\n",
    "\n",
    "\n",
    "print('Training Score : ', RF_R.score(x_train, y_train))\n",
    "print('Testing Score  : ', RF_R.score(x_test, y_test))\n",
    "\n",
    "print('R2 Score : ', r2_score(y_test, RF_R.predict(x_test)))\n",
    "print('MSE : ', mean_squared_error(y_test, RF_R.predict(x_test)))\n"
   ]
  },
  {
   "cell_type": "markdown",
   "id": "8bf9b097",
   "metadata": {},
   "source": [
    "# RF with hyperparameter tunning"
   ]
  },
  {
   "cell_type": "code",
   "execution_count": 166,
   "id": "620e42c5",
   "metadata": {},
   "outputs": [
    {
     "data": {
      "text/plain": [
       "RandomForestRegressor(max_depth=9, min_samples_leaf=5, min_samples_split=8,\n",
       "                      n_estimators=86, random_state=10)"
      ]
     },
     "execution_count": 166,
     "metadata": {},
     "output_type": "execute_result"
    }
   ],
   "source": [
    "rf_model=RandomForestRegressor(random_state=10)\n",
    "\n",
    "hyp= {\n",
    "      \"n_estimators\": np.arange(10,200),\n",
    "      \"max_depth\":np.arange(5,15),\n",
    "      \"min_samples_split\":np.arange(5,20),\n",
    "      \"min_samples_leaf\":np.arange(4,15),\n",
    "      \"max_features\":['auto']\n",
    "}\n",
    "\n",
    "rscv_rf_clf= RandomizedSearchCV(rf_model,hyp,cv=6)\n",
    "rscv_rf_clf.fit(x_train,y_train)\n",
    "rscv_rf_clf.best_estimator_"
   ]
  },
  {
   "cell_type": "code",
   "execution_count": 167,
   "id": "86fbf1b2",
   "metadata": {},
   "outputs": [
    {
     "name": "stdout",
     "output_type": "stream",
     "text": [
      "Training Score :  0.8997288307764947\n",
      "Testing Score  :  0.8341161639595207\n",
      "R2 Score :  0.8341161639595207\n",
      "MSE :  12.164889261995075\n"
     ]
    }
   ],
   "source": [
    "RF_R= RandomForestRegressor(max_depth=13, min_samples_leaf=6, min_samples_split=12,n_estimators=55, random_state=10)\n",
    "RF_R.fit(x_train, y_train)\n",
    "\n",
    "\n",
    "print('Training Score : ', RF_R.score(x_train, y_train))\n",
    "print('Testing Score  : ', RF_R.score(x_test, y_test))\n",
    "\n",
    "print('R2 Score : ', r2_score(y_test, RF_R.predict(x_test)))\n",
    "print('MSE : ', mean_squared_error(y_test, RF_R.predict(x_test)))\n"
   ]
  },
  {
   "cell_type": "markdown",
   "id": "f0837cc5",
   "metadata": {},
   "source": [
    "# Comparing accuracy score"
   ]
  },
  {
   "cell_type": "code",
   "execution_count": 168,
   "id": "ff340592",
   "metadata": {},
   "outputs": [
    {
     "name": "stdout",
     "output_type": "stream",
     "text": [
      "Linear Regression: \n",
      "Testing Score :  0.6651082948279272\n",
      "\n",
      "Decision Tree Regression: \n",
      "Testing Score  :  0.6982345100660492\n",
      "\n",
      "KNN Regression: \n",
      "Testing Score  :  0.6392362369906821\n",
      "\n",
      "RF Regression: \n",
      "Testing Score  :  0.8341161639595207\n",
      "\n"
     ]
    }
   ],
   "source": [
    "print(\"Linear Regression: \")\n",
    "print('Testing Score : ', LR.score(x_test, y_test))\n",
    "print()\n",
    "\n",
    "print(\"Decision Tree Regression: \")\n",
    "print('Testing Score  : ', DT_R.score(x_test, y_test))\n",
    "print()\n",
    "\n",
    "print(\"KNN Regression: \")\n",
    "print('Testing Score  : ', KNN_R.score(x_test, y_test))\n",
    "print()\n",
    "\n",
    "print(\"RF Regression: \")\n",
    "print('Testing Score  : ', RF_R.score(x_test, y_test))\n",
    "print()"
   ]
  },
  {
   "cell_type": "code",
   "execution_count": 169,
   "id": "500d2799",
   "metadata": {},
   "outputs": [
    {
     "name": "stdout",
     "output_type": "stream",
     "text": [
      "Mean Squared Error :  12.164889261995075\n",
      "Root Mean Squared Error :  3.487820130395929\n",
      "Score :  0.8885666146774662\n"
     ]
    }
   ],
   "source": [
    "print('Mean Squared Error : ', mean_squared_error(y_test, RF_R.predict(x_test)))\n",
    "print('Root Mean Squared Error : ', mean_squared_error(y_test, RF_R.predict(x_test))**0.5)\n",
    "print('Score : ', r2_score(y, RF_R.predict(x)))"
   ]
  },
  {
   "cell_type": "markdown",
   "id": "cd615e31",
   "metadata": {},
   "source": [
    "Finally we finishes the project. We have built a Random Forest Regressor Model and having the Training accuracy of 89% and Testing accuracy of 84%."
   ]
  }
 ],
 "metadata": {
  "kernelspec": {
   "display_name": "Python 3 (ipykernel)",
   "language": "python",
   "name": "python3"
  },
  "language_info": {
   "codemirror_mode": {
    "name": "ipython",
    "version": 3
   },
   "file_extension": ".py",
   "mimetype": "text/x-python",
   "name": "python",
   "nbconvert_exporter": "python",
   "pygments_lexer": "ipython3",
   "version": "3.9.12"
  }
 },
 "nbformat": 4,
 "nbformat_minor": 5
}
